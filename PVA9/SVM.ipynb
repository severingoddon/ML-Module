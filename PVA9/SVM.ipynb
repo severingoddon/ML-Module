{
 "cells": [
  {
   "cell_type": "code",
   "execution_count": null,
   "id": "eca93760-253a-4294-9816-4e2448c22a28",
   "metadata": {},
   "outputs": [],
   "source": [
    "import numpy as np\n",
    "import pandas as pd\n",
    "import matplotlib.pyplot as plt\n",
    "import sklearn.datasets as datasets \n",
    "from   sklearn.svm import SVC, LinearSVC \n",
    "from   sklearn.linear_model import SGDClassifier\n",
    "from   sklearn.preprocessing import MinMaxScaler\n",
    "from   sklearn.model_selection import train_test_split"
   ]
  },
  {
   "cell_type": "code",
   "execution_count": null,
   "id": "06413336-0cbc-4713-bbdc-806145046ccf",
   "metadata": {},
   "outputs": [],
   "source": [
    "autos = pd.read_csv(\"Autoklassifizierung.csv\", header=None)\n",
    "autos.head() "
   ]
  },
  {
   "cell_type": "code",
   "execution_count": null,
   "id": "34810787-e3bb-4de3-8519-62597b7e148d",
   "metadata": {},
   "outputs": [],
   "source": [
    "scaler = MinMaxScaler()"
   ]
  },
  {
   "cell_type": "code",
   "execution_count": null,
   "id": "22ade42c-11e4-4ed7-a546-acb49560a4cd",
   "metadata": {},
   "outputs": [],
   "source": [
    "autos_x = scaler.fit_transform(autos[[1, 2]])"
   ]
  },
  {
   "cell_type": "code",
   "execution_count": null,
   "id": "4e62c938-dfe7-48a9-8d6e-c20323c90a69",
   "metadata": {},
   "outputs": [],
   "source": [
    "autos_y = autos[0].values"
   ]
  },
  {
   "cell_type": "code",
   "execution_count": null,
   "id": "ffa94b7a-3a86-41ad-98e0-a238087cd7ec",
   "metadata": {},
   "outputs": [],
   "source": [
    "svmLin = SVC(kernel='linear', C=100) \n",
    "svmLin.fit(x, y)"
   ]
  },
  {
   "cell_type": "code",
   "execution_count": null,
   "id": "cd49cfcb-e25b-457f-aaff-a5a76183239f",
   "metadata": {},
   "outputs": [],
   "source": [
    "def coefs(svm_):\n",
    "    \"\"\"\n",
    "    Bestimmt die Koeffizienten der Ternngeraden und der Margingeraden \n",
    "    für lineare SVM bei Datensätzen mit zwei Features. \n",
    "    \"\"\"\n",
    "    coefs = svm_.coef_[0]\n",
    "    a = -coefs[0] / coefs[1]\n",
    "    b = - svm_.intercept_ / coefs[1]\n",
    "    margin = 1 / np.linalg.norm(coefs)\n",
    "    margin_y_offset = margin * (a**2 + 1) ** 0.5\n",
    "    return a, b, b - margin_y_offset, b + margin_y_offset"
   ]
  },
  {
   "cell_type": "code",
   "execution_count": null,
   "id": "b341621e-16ba-49ee-8307-bf6f870f33df",
   "metadata": {},
   "outputs": [],
   "source": [
    "def mesh(svm_, xmin=0, xmax=1, ymin=0, ymax=1, colors='cygmbr'):\n",
    "    \"\"\"\n",
    "    Erzeugt zwei Arrays mit x- und y-Koordinaten, die relativ dicht \n",
    "    in einenm Rechteck liegen.\n",
    "    Ferner wird wird ein gleichlanges Array erzeugt, das Farbcodes für die\n",
    "    Klassen der Punkte mit den entsprechenden x- und y- Koordinaten enthält.\n",
    "    \"\"\"\n",
    "    mesh_x, mesh_y = np.meshgrid(np.linspace(xmin, xmax, 100), np.linspace(ymin, ymax, 100))\n",
    "    mesh_x = mesh_x.flatten()\n",
    "    mesh_y = mesh_y.flatten()\n",
    "    zz = svm_.predict(np.array([mesh_x, mesh_y]).T)\n",
    "    col = [colors[c] for c in zz]\n",
    "    return mesh_x, mesh_y, col"
   ]
  },
  {
   "cell_type": "code",
   "execution_count": null,
   "id": "f68a4f26-b17c-47ad-b386-f034f71a702d",
   "metadata": {},
   "outputs": [],
   "source": [
    "def plot_svm(svm_, x, y):\n",
    "    \"\"\"\n",
    "    Trainiert eine SVM mit zwei Klassen und zwei Featuren und stellt das Resultat graphisch dar.\n",
    "    \"\"\"\n",
    "    svm_.fit(x, y)\n",
    "    xmin = np.min(x[:, 0])\n",
    "    xmax = np.max(x[:, 0])\n",
    "    ymin = np.min(x[:, 1])\n",
    "    ymax = np.max(x[:, 1])\n",
    "    corr = (svm_.predict(x) == y).astype(int)\n",
    "    \n",
    "    mesh_x, mesh_y, col = mesh(svm_, xmin=xmin, xmax=xmax, ymin=ymin, ymax=ymax)\n",
    "    plt.scatter(mesh_x, mesh_y, c = col, marker='.')\n",
    "    for label in set(y):\n",
    "        plt.scatter(x[y==label,0], x[y==label, 1], marker='+x*sDh'[label], c=['rk'[c] for c in corr[y==label]])\n",
    "    if len(set(y)) <= 2:\n",
    "        try:\n",
    "            _a, _b , _b0, _b1 = coefs(svm_)\n",
    "            plt.plot((xmin, xmax), ( _b + _a * xmin,  _b  + _a * xmax), c = 'k')\n",
    "            plt.plot((xmin, xmax), (_b0 + _a * xmin, _b0 + _a * xmax), 'k--')\n",
    "            plt.plot((xmin, xmax), (_b1 + _a * xmin, _b1 + _a * xmax), 'k--')\n",
    "        except:\n",
    "            pass\n",
    "    plt.xlim((xmin, xmax))\n",
    "    plt.ylim((ymin, ymax))\n",
    "    plt.gca().set_aspect(1)\n",
    "    print(f\"Score: {svm_.score(x,y)}\")"
   ]
  },
  {
   "cell_type": "raw",
   "id": "03033006-4c42-40ef-a39e-1aa0618045ec",
   "metadata": {},
   "source": [
    "# C=0 nicht erlaubt\n",
    "plot_svm(SVC(kernel='linear', C=0), autos_x, autos_y)"
   ]
  },
  {
   "cell_type": "code",
   "execution_count": null,
   "id": "03206e87-7fa2-49c6-bcf0-9e8ea9174861",
   "metadata": {},
   "outputs": [],
   "source": [
    "plot_svm(SVC(kernel='linear', C=1), autos_x, autos_y)"
   ]
  },
  {
   "cell_type": "code",
   "execution_count": null,
   "id": "05488a63-79ee-4168-bd69-d7a253a6004b",
   "metadata": {},
   "outputs": [],
   "source": [
    "plot_svm(SVC(kernel='linear', C=10), autos_x, autos_y)"
   ]
  },
  {
   "cell_type": "code",
   "execution_count": null,
   "id": "8ffba8a5-2907-46a3-9bed-92cbdd143fd5",
   "metadata": {},
   "outputs": [],
   "source": [
    "plot_svm(SVC(kernel='linear', C=100), autos_x, autos_y)"
   ]
  },
  {
   "cell_type": "code",
   "execution_count": null,
   "id": "7c8c71d6-e808-43cd-990d-8b69ea454206",
   "metadata": {},
   "outputs": [],
   "source": [
    "plot_svm(SVC(kernel='linear', C=1000), autos_x, autos_y)"
   ]
  },
  {
   "cell_type": "markdown",
   "id": "af120138-b15d-4deb-9017-a95cb625d568",
   "metadata": {},
   "source": [
    "## Scheibe"
   ]
  },
  {
   "cell_type": "code",
   "execution_count": null,
   "id": "32477660-b1a5-40cb-98fb-835c3526d46f",
   "metadata": {},
   "outputs": [],
   "source": [
    "disk_x = 3 * np.random.random_sample((1000, 2)) - 1.5\n",
    "disk_y = (np.sum(disk_x ** 2, axis=1) <= 1).astype(int)"
   ]
  },
  {
   "cell_type": "code",
   "execution_count": null,
   "id": "cf12b27f-5bb4-4144-a3e9-c391d89664f5",
   "metadata": {},
   "outputs": [],
   "source": [
    "plt.scatter(disk_x[disk_y == 1, 0], disk_x[disk_y == 1, 1], marker='+')\n",
    "plt.scatter(disk_x[disk_y == 0, 0], disk_x[disk_y == 0, 1], marker='*')\n",
    "plt.gca().set_aspect(1)"
   ]
  },
  {
   "cell_type": "code",
   "execution_count": null,
   "id": "e70172be-cc88-4c48-a391-899cb19ff3ec",
   "metadata": {},
   "outputs": [],
   "source": [
    "plot_svm(SVC(kernel='linear', C=10), disk_x, disk_y)"
   ]
  },
  {
   "cell_type": "code",
   "execution_count": null,
   "id": "071f165c-8e55-462e-b20b-b1292a5d2d26",
   "metadata": {},
   "outputs": [],
   "source": [
    "plot_svm(LinearSVC(C=100), disk_x, disk_y)"
   ]
  },
  {
   "cell_type": "code",
   "execution_count": null,
   "id": "19dfb419-6aa2-4b8f-b31e-46dcc7fe95bc",
   "metadata": {},
   "outputs": [],
   "source": [
    "svm_ = SVC(kernel='linear', C=100)\n",
    "svm_.fit(disk_x, disk_y)\n",
    "svm_.coef_, svm_.intercept_"
   ]
  },
  {
   "cell_type": "markdown",
   "id": "47c8f32f-af39-4355-84da-1dd6858beea0",
   "metadata": {},
   "source": [
    "## Monde"
   ]
  },
  {
   "cell_type": "code",
   "execution_count": null,
   "id": "3cfd6caa-a8a0-462a-a2d9-b9e699bda1da",
   "metadata": {},
   "outputs": [],
   "source": [
    "moons_x, moons_y = datasets.make_moons()"
   ]
  },
  {
   "cell_type": "code",
   "execution_count": null,
   "id": "13ff8f88-4c2f-4f61-8cc0-6a5bbbab4ba3",
   "metadata": {},
   "outputs": [],
   "source": [
    "plot_svm(SVC(kernel='linear', C=1), moons_x, moons_y)"
   ]
  },
  {
   "cell_type": "code",
   "execution_count": null,
   "id": "9c556e20-4b7f-4f78-ad89-2e3be83a740c",
   "metadata": {},
   "outputs": [],
   "source": [
    "plot_svm(SVC(kernel='linear', C=10), moons_x, moons_y)"
   ]
  },
  {
   "cell_type": "code",
   "execution_count": null,
   "id": "fe90b889-63fe-4325-8706-8897677eedc6",
   "metadata": {},
   "outputs": [],
   "source": [
    "plot_svm(SVC(kernel='linear', C=100), moons_x, moons_y)"
   ]
  },
  {
   "cell_type": "code",
   "execution_count": null,
   "id": "f312641c-0dcc-40ec-a1ca-d38d63092a60",
   "metadata": {},
   "outputs": [],
   "source": [
    "plot_svm(SVC(kernel='linear', C=1000), moons_x, moons_y)"
   ]
  },
  {
   "cell_type": "markdown",
   "id": "24ad6d56-7633-4d0b-94dd-87d719e4b32b",
   "metadata": {},
   "source": [
    "# Polynomialer Kernel"
   ]
  },
  {
   "cell_type": "code",
   "execution_count": null,
   "id": "8d3ca22a-316d-41ac-a37f-6e04dafc266e",
   "metadata": {},
   "outputs": [],
   "source": [
    "plot_svm(SVC(kernel='poly', degree=2, C=1), autos_x, autos_y)"
   ]
  },
  {
   "cell_type": "code",
   "execution_count": null,
   "id": "39f4eca1-cb2a-4c74-af6a-c15fff3c3f29",
   "metadata": {},
   "outputs": [],
   "source": [
    "plot_svm(SVC(kernel='poly', degree=2, C=10), autos_x, autos_y)"
   ]
  },
  {
   "cell_type": "code",
   "execution_count": null,
   "id": "b27d8ea0-33b7-4f6c-9d30-78744374c954",
   "metadata": {},
   "outputs": [],
   "source": [
    "plot_svm(SVC(kernel='poly', degree=2, C=100), autos_x, autos_y)"
   ]
  },
  {
   "cell_type": "code",
   "execution_count": null,
   "id": "290f3cd2-7ef5-4292-a8f7-223af779d5be",
   "metadata": {},
   "outputs": [],
   "source": [
    "plot_svm(SVC(kernel='poly', degree=2, C=1000), autos_x, autos_y)"
   ]
  },
  {
   "cell_type": "code",
   "execution_count": null,
   "id": "dd4cbf09-3eb4-4c3c-b717-7854b7af6dae",
   "metadata": {},
   "outputs": [],
   "source": [
    "plot_svm(SVC(kernel='poly', degree=3, C=1), autos_x, autos_y)"
   ]
  },
  {
   "cell_type": "code",
   "execution_count": null,
   "id": "2bc822a5-373b-4389-be5b-8ea138623aff",
   "metadata": {},
   "outputs": [],
   "source": [
    "plot_svm(SVC(kernel='poly', degree=3, C=10), autos_x, autos_y)"
   ]
  },
  {
   "cell_type": "code",
   "execution_count": null,
   "id": "1bf90da4-8397-42f0-a92c-2f8fba6c508c",
   "metadata": {},
   "outputs": [],
   "source": [
    "plot_svm(SVC(kernel='poly', degree=3, C=100), autos_x, autos_y)"
   ]
  },
  {
   "cell_type": "code",
   "execution_count": null,
   "id": "0eed8f49-847e-47d4-a762-4f0bc4909e77",
   "metadata": {},
   "outputs": [],
   "source": [
    "plot_svm(SVC(kernel='poly', degree=3, C=1000), autos_x, autos_y)"
   ]
  },
  {
   "cell_type": "code",
   "execution_count": null,
   "id": "3fe30b01-6031-4d03-801d-967a64d13f5f",
   "metadata": {},
   "outputs": [],
   "source": [
    "plot_svm(SVC(kernel=\"poly\", degree=11, C=100), moons_x, moons_y)"
   ]
  },
  {
   "cell_type": "code",
   "execution_count": null,
   "id": "a330c220-d642-4dab-b769-506ad94b49b9",
   "metadata": {},
   "outputs": [],
   "source": [
    "plot_svm(SVC(kernel=\"poly\", degree=2, C=10), disk_x, disk_y)"
   ]
  },
  {
   "cell_type": "code",
   "execution_count": null,
   "id": "13df2fb0-0195-43b6-8d1f-54bebc399ae5",
   "metadata": {},
   "outputs": [],
   "source": [
    "plot_svm(SVC(kernel=\"poly\", degree=2, C=100), disk_x, disk_y)"
   ]
  },
  {
   "cell_type": "code",
   "execution_count": null,
   "id": "71c2454e-2470-43e1-a62b-6ad0497bba8f",
   "metadata": {},
   "outputs": [],
   "source": [
    "plot_svm(SVC(kernel=\"poly\", degree=2, C=1000), disk_x, disk_y)"
   ]
  },
  {
   "cell_type": "code",
   "execution_count": null,
   "id": "5e746153-ee3f-4f73-ae5e-a6cd24d3a56f",
   "metadata": {},
   "outputs": [],
   "source": [
    "plot_svm(SVC(kernel=\"poly\", degree=3, C=1), disk_x, disk_y)"
   ]
  },
  {
   "cell_type": "code",
   "execution_count": null,
   "id": "7acc3349-0691-4b83-b881-7333ed245ab7",
   "metadata": {},
   "outputs": [],
   "source": [
    "plot_svm(SVC(kernel=\"poly\", degree=3, C=100), disk_x, disk_y)"
   ]
  },
  {
   "cell_type": "code",
   "execution_count": null,
   "id": "885613c7-10d2-41f5-848e-c50675f37be9",
   "metadata": {},
   "outputs": [],
   "source": [
    "plot_svm(SVC(kernel=\"poly\", degree=4, C=100), disk_x, disk_y)"
   ]
  },
  {
   "cell_type": "markdown",
   "id": "10d72baa-1939-4493-b512-5a521cef52a1",
   "metadata": {},
   "source": [
    "## rbf-Kernel (Gauß-Kernel) (Default)"
   ]
  },
  {
   "cell_type": "code",
   "execution_count": null,
   "id": "c55c66e3-dbf2-4835-aaab-23dcd071d80e",
   "metadata": {},
   "outputs": [],
   "source": [
    "plot_svm(SVC(kernel=\"rbf\", C=1), disk_x, disk_y)"
   ]
  },
  {
   "cell_type": "code",
   "execution_count": null,
   "id": "e34c9993-e4a4-4237-8832-318c4a4a05df",
   "metadata": {},
   "outputs": [],
   "source": [
    "plot_svm(SVC(kernel=\"rbf\", C=10), disk_x, disk_y)"
   ]
  },
  {
   "cell_type": "code",
   "execution_count": null,
   "id": "6213bac8-5b3e-4cae-8730-a976e39db456",
   "metadata": {},
   "outputs": [],
   "source": [
    "plot_svm(SVC(kernel=\"rbf\", C=100), disk_x, disk_y)"
   ]
  },
  {
   "cell_type": "code",
   "execution_count": null,
   "id": "91c11891-7531-4d8a-9e56-2563537dd019",
   "metadata": {},
   "outputs": [],
   "source": [
    "plot_svm(SVC(kernel=\"rbf\", C=1000), disk_x, disk_y)"
   ]
  },
  {
   "cell_type": "code",
   "execution_count": null,
   "id": "46ff6221-9cf0-41fe-a73d-e1d01bad85e0",
   "metadata": {},
   "outputs": [],
   "source": [
    "plot_svm(SVC(kernel=\"rbf\", gamma=1, C=100), disk_x, disk_y)"
   ]
  },
  {
   "cell_type": "code",
   "execution_count": null,
   "id": "c34ea824-2c13-4900-80b8-18bc0d269db5",
   "metadata": {},
   "outputs": [],
   "source": [
    "plot_svm(SVC(kernel=\"rbf\", gamma=0.01, C=100), disk_x, disk_y)"
   ]
  },
  {
   "cell_type": "code",
   "execution_count": null,
   "id": "4bb8e802-00a2-430e-b7a0-b35733998afd",
   "metadata": {},
   "outputs": [],
   "source": [
    "plot_svm(SVC(kernel=\"rbf\", C=1), moons_x, moons_y)"
   ]
  },
  {
   "cell_type": "code",
   "execution_count": null,
   "id": "6fb9c1fa-75bb-4e2e-a8cd-c7c3cd5a3058",
   "metadata": {},
   "outputs": [],
   "source": [
    "plot_svm(SVC(kernel=\"rbf\", C=1000), moons_x, moons_y)"
   ]
  },
  {
   "cell_type": "markdown",
   "id": "7e2d284b-d132-4259-9834-a08a0330ead1",
   "metadata": {},
   "source": [
    "# Mehrklassen-Probleme"
   ]
  },
  {
   "cell_type": "code",
   "execution_count": null,
   "id": "69073c90-7769-4b35-b072-35fac322bf01",
   "metadata": {},
   "outputs": [],
   "source": [
    "autos2 = pd.read_csv(\"Auto2MerkmaleClass.csv\", header=None)\n",
    "autos2.head() "
   ]
  },
  {
   "cell_type": "code",
   "execution_count": null,
   "id": "57153169-2376-4e41-a05e-aa736ce94749",
   "metadata": {},
   "outputs": [],
   "source": [
    "autos2_x = scaler.fit_transform(autos2[[1, 2]])"
   ]
  },
  {
   "cell_type": "code",
   "execution_count": null,
   "id": "27dcf3e7-94a7-40ed-a278-0573c8ce29c4",
   "metadata": {},
   "outputs": [],
   "source": [
    "autos2_y = autos2[0].values"
   ]
  },
  {
   "cell_type": "code",
   "execution_count": null,
   "id": "68ba932c-18b9-46c2-b43e-7ffffa132ce7",
   "metadata": {},
   "outputs": [],
   "source": [
    "plot_svm(SVC(kernel='linear', C=10), autos2_x, autos2_y)"
   ]
  },
  {
   "cell_type": "code",
   "execution_count": null,
   "id": "0486c0c5-0c0c-469f-90fb-d73f76105608",
   "metadata": {},
   "outputs": [],
   "source": [
    "plot_svm(SVC(kernel='linear', C=1000), autos2_x, autos2_y)"
   ]
  },
  {
   "cell_type": "code",
   "execution_count": null,
   "id": "86fe96f4-e93e-4b52-83a1-07cce3f627aa",
   "metadata": {},
   "outputs": [],
   "source": [
    "plot_svm(SVC(kernel='rbf', C=1000), autos2_x, autos2_y)"
   ]
  },
  {
   "cell_type": "code",
   "execution_count": null,
   "id": "f29eb927-91d2-4409-b92c-49b7189d5334",
   "metadata": {},
   "outputs": [],
   "source": [
    "plot_svm(SVC(kernel='rbf', gamma=1000, C=1000), autos2_x, autos2_y)"
   ]
  },
  {
   "cell_type": "markdown",
   "id": "35d133d6-6905-46ea-ae6d-314b9618377f",
   "metadata": {},
   "source": [
    "## MNist Digits-dataset von sklearn"
   ]
  },
  {
   "cell_type": "code",
   "execution_count": null,
   "id": "efceb96e-50d6-4282-8288-8b97d7cbfa45",
   "metadata": {},
   "outputs": [],
   "source": [
    "digits = datasets.load_digits()\n",
    "X_train, X_test, y_train, y_test  = train_test_split(digits.data, digits.target, test_size=0.8)"
   ]
  },
  {
   "cell_type": "code",
   "execution_count": null,
   "id": "e52070b4-8824-4d69-8c96-22fcd00945f4",
   "metadata": {},
   "outputs": [],
   "source": [
    "svm_d = SVC(kernel=\"linear\", C=1)\n",
    "svm_d.fit(X_train, y_train)\n",
    "svm_d.score(X_test, y_test)"
   ]
  },
  {
   "cell_type": "code",
   "execution_count": null,
   "id": "1c8fb823-4576-43f4-8c53-28f0032fa9d8",
   "metadata": {},
   "outputs": [],
   "source": [
    "svm_d = SVC(kernel=\"linear\", C=10)\n",
    "svm_d.fit(X_train, y_train)\n",
    "svm_d.score(X_test, y_test)"
   ]
  },
  {
   "cell_type": "code",
   "execution_count": null,
   "id": "d5c7854a-f308-45b6-b2d6-2f73a1167914",
   "metadata": {},
   "outputs": [],
   "source": [
    "svm_d = SVC(kernel=\"linear\", C=100)\n",
    "svm_d.fit(X_train, y_train)\n",
    "svm_d.score(X_test, y_test)"
   ]
  },
  {
   "cell_type": "code",
   "execution_count": null,
   "id": "b1d42178-6dbc-4ca5-b6cb-876cefaafe25",
   "metadata": {},
   "outputs": [],
   "source": [
    "svm_d = SVC(kernel=\"linear\", C=1000)\n",
    "svm_d.fit(X_train, y_train)\n",
    "svm_d.score(X_test, y_test)"
   ]
  },
  {
   "cell_type": "code",
   "execution_count": null,
   "id": "2a590356-5dc3-41bd-94fa-aee32eea19ee",
   "metadata": {},
   "outputs": [],
   "source": [
    "svm_d = LinearSVC(C=10)\n",
    "svm_d.fit(X_train, y_train)\n",
    "svm_d.score(X_test, y_test)"
   ]
  },
  {
   "cell_type": "markdown",
   "id": "1b48daad-93f5-443a-922b-f121c2ba7899",
   "metadata": {},
   "source": [
    "## MNist von Kaggle\n",
    "https://www.kaggle.com/datasets/oddrationale/mnist-in-csv"
   ]
  },
  {
   "cell_type": "code",
   "execution_count": null,
   "id": "21faab80-0703-4192-9c69-dbf9dd67f5d4",
   "metadata": {},
   "outputs": [],
   "source": [
    "mnist_train = pd.read_csv(\"mnist_train.csv\")"
   ]
  },
  {
   "cell_type": "code",
   "execution_count": null,
   "id": "95864700-e80c-47c5-8330-c215af9cf3af",
   "metadata": {},
   "outputs": [],
   "source": [
    "mnist_test = pd.read_csv(\"mnist_test.csv\")"
   ]
  },
  {
   "cell_type": "code",
   "execution_count": null,
   "id": "49524f82-65f9-45a0-962b-60d9bf482b8b",
   "metadata": {},
   "outputs": [],
   "source": [
    "mnist_train.shape, mnist_test.shape"
   ]
  },
  {
   "cell_type": "code",
   "execution_count": null,
   "id": "4d6ecfac-814f-49ac-90e8-ca144449a6db",
   "metadata": {},
   "outputs": [],
   "source": [
    "mnist_train_x = mnist_train.iloc[:,1:]"
   ]
  },
  {
   "cell_type": "code",
   "execution_count": null,
   "id": "f0478899-26bf-469c-8fe5-88335007ed40",
   "metadata": {},
   "outputs": [],
   "source": [
    "mnist_train_y = mnist_train.label"
   ]
  },
  {
   "cell_type": "code",
   "execution_count": null,
   "id": "6c907a29-e5e8-4db8-a692-1956f1d9ba00",
   "metadata": {},
   "outputs": [],
   "source": [
    "mnist_test_x = mnist_test.iloc[:,1:]"
   ]
  },
  {
   "cell_type": "code",
   "execution_count": null,
   "id": "35a8e1c9-4f08-4293-bed5-21567861df48",
   "metadata": {},
   "outputs": [],
   "source": [
    "mnist_test_y = mnist_test.label"
   ]
  },
  {
   "cell_type": "code",
   "execution_count": null,
   "id": "d3a8002d-b5d2-4f13-8155-30a0f0e9f447",
   "metadata": {},
   "outputs": [],
   "source": [
    "svm_k = SVC(kernel=\"linear\", C=1)\n",
    "svm_k.fit(mnist_train_x, mnist_train_y)\n",
    "svm_k.score(mnist_test_x, mnist_test_y)"
   ]
  },
  {
   "cell_type": "code",
   "execution_count": null,
   "id": "19ceecf9-6419-4615-b1ef-3d740c5b2af9",
   "metadata": {},
   "outputs": [],
   "source": [
    "svm_k = LinearSVC(C=10)\n",
    "svm_k.fit(mnist_train_x, mnist_train_y)\n",
    "svm_k.score(mnist_test_x, mnist_test_y)"
   ]
  },
  {
   "cell_type": "code",
   "execution_count": null,
   "id": "654a79f2-3390-4fb8-af05-cccb19260e81",
   "metadata": {},
   "outputs": [],
   "source": [
    "svm_k = SGDClassifier()\n",
    "svm_k.fit(mnist_train_x, mnist_train_y)\n",
    "svm_k.score(mnist_test_x, mnist_test_y)"
   ]
  },
  {
   "cell_type": "code",
   "execution_count": null,
   "id": "3f4da13e-1113-4a28-9859-95512a2b7072",
   "metadata": {},
   "outputs": [],
   "source": []
  }
 ],
 "metadata": {
  "kernelspec": {
   "display_name": "Python 3 (ipykernel)",
   "language": "python",
   "name": "python3"
  },
  "language_info": {
   "codemirror_mode": {
    "name": "ipython",
    "version": 3
   },
   "file_extension": ".py",
   "mimetype": "text/x-python",
   "name": "python",
   "nbconvert_exporter": "python",
   "pygments_lexer": "ipython3",
   "version": "3.9.13"
  }
 },
 "nbformat": 4,
 "nbformat_minor": 5
}
