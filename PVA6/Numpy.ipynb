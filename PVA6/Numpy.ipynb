{
 "cells": [
  {
   "cell_type": "markdown",
   "id": "75442ad9-4fe0-4c96-993c-2da6ef4a31e9",
   "metadata": {},
   "source": [
    "# Numpy"
   ]
  },
  {
   "cell_type": "code",
   "execution_count": 1,
   "id": "58e5fd0e-d1cb-4fae-9658-c2cf00ff8746",
   "metadata": {},
   "outputs": [],
   "source": [
    "import numpy as np"
   ]
  },
  {
   "cell_type": "markdown",
   "id": "eda1a64e-2a77-4fa5-afe7-228f7ad92a32",
   "metadata": {},
   "source": [
    "## Einführung in Numpy"
   ]
  },
  {
   "cell_type": "markdown",
   "id": "7da4d9d3-7b36-42ae-8e53-642ffd51e9e6",
   "metadata": {},
   "source": [
    "* `Numpy` ist ein Akronym für \"Numerisches Python\"\n",
    "\n",
    "* Erweiterungsmodul für Python, welches zum größten Teil in C geschrieben ist; dadurch ist es wesentlich performanter als reines Python\n",
    "\n",
    "* Wichtigste Datenstruktur: `ndarray` für Vektoren, Matrizen und n-dimensionale Arrays\n",
    "\n",
    "* Geeignet für die Verarbeitung sehr großer Datensätze («big data») Matrizen und Arrays\n",
    "\n",
    "* Viele (effizient implementierte) mathematischen Funktionen für Matrizen und Arrays\n",
    "\n",
    "* https://numpy.org/\n",
    "\n",
    "* `SciPy` erweitert die Leistungsfähigkeit von `Numpy` "
   ]
  },
  {
   "cell_type": "markdown",
   "id": "2f52e7f9-c745-49ca-91d7-ada18d7d53cc",
   "metadata": {},
   "source": [
    "## Arrays\n",
    "* Arrays sind die wichtigste Datenstruktur in Numpy\n",
    "* Eindimensionale Arrays verhalten sich teilweise ähnlich wie Python-Listen"
   ]
  },
  {
   "cell_type": "code",
   "execution_count": 2,
   "id": "27fdb1d5-b072-4b31-b842-8740862b66cd",
   "metadata": {},
   "outputs": [
    {
     "data": {
      "text/plain": [
       "array([10, 20, 33])"
      ]
     },
     "execution_count": 2,
     "metadata": {},
     "output_type": "execute_result"
    }
   ],
   "source": [
    "# Eindimensionale Arrays\n",
    "arr = np.array([10, 20, 33])\n",
    "arr"
   ]
  },
  {
   "cell_type": "code",
   "execution_count": 3,
   "id": "73b11ad2-5f33-40bf-b5c1-5deb5bf57c61",
   "metadata": {},
   "outputs": [
    {
     "data": {
      "text/plain": [
       "33"
      ]
     },
     "execution_count": 3,
     "metadata": {},
     "output_type": "execute_result"
    }
   ],
   "source": [
    "# Zugriff auf ein Element eines Arrays\n",
    "arr[2]"
   ]
  },
  {
   "cell_type": "code",
   "execution_count": 4,
   "id": "c462916d-46f6-43af-9175-5e8e315232d7",
   "metadata": {},
   "outputs": [
    {
     "data": {
      "text/plain": [
       "array([10, 20, 30])"
      ]
     },
     "execution_count": 4,
     "metadata": {},
     "output_type": "execute_result"
    }
   ],
   "source": [
    "arr[2] = 30\n",
    "arr"
   ]
  },
  {
   "cell_type": "code",
   "execution_count": 5,
   "id": "894df507-684d-478a-9d4e-16df915b020b",
   "metadata": {},
   "outputs": [
    {
     "data": {
      "text/plain": [
       "numpy.ndarray"
      ]
     },
     "execution_count": 5,
     "metadata": {},
     "output_type": "execute_result"
    }
   ],
   "source": [
    "# Typ eines Arrays\n",
    "type(arr)"
   ]
  },
  {
   "cell_type": "code",
   "execution_count": 6,
   "id": "74ebf2c4-14bc-4640-8054-cfa23fc074f8",
   "metadata": {},
   "outputs": [
    {
     "data": {
      "text/plain": [
       "array([40, 50, 60])"
      ]
     },
     "execution_count": 6,
     "metadata": {},
     "output_type": "execute_result"
    }
   ],
   "source": [
    "# Statt einer Liste kann das Argument auch ein Tupel sein\n",
    "arr2 = np.array((40, 50, 60))\n",
    "arr2"
   ]
  },
  {
   "cell_type": "markdown",
   "id": "49da6a5d-5dcc-43ac-b6f0-ef4c8cfad0f6",
   "metadata": {},
   "source": [
    "Die arithmetischen Opertationen werden Elementweise durchgeführt; \n",
    "die Größen müssen allerdings übereinstimmen"
   ]
  },
  {
   "cell_type": "code",
   "execution_count": 7,
   "id": "5c27d8b5-db75-4eb5-a802-30405de85c62",
   "metadata": {},
   "outputs": [
    {
     "name": "stdout",
     "output_type": "stream",
     "text": [
      "[50 70 90]\n",
      "[30 30 30]\n",
      "[ 400 1000 1800]\n",
      "[4.  2.5 2. ]\n"
     ]
    }
   ],
   "source": [
    "print(arr2 + arr)\n",
    "print(arr2 - arr)\n",
    "print(arr2 * arr)\n",
    "print(arr2 / arr)"
   ]
  },
  {
   "cell_type": "code",
   "execution_count": 8,
   "id": "d5519a66-7212-43fd-80fe-772e32cb7a48",
   "metadata": {},
   "outputs": [
    {
     "name": "stdout",
     "output_type": "stream",
     "text": [
      "[1010 1020 1030]\n",
      "[990 980 970]\n",
      "[100 200 300]\n",
      "[1. 2. 3.]\n"
     ]
    }
   ],
   "source": [
    "print(1000 + arr)\n",
    "print(1000 - arr)\n",
    "print(10 * arr)\n",
    "print(arr / 10)"
   ]
  },
  {
   "cell_type": "markdown",
   "id": "9ea390b3-4933-48da-87a1-ddd8af8f3fed",
   "metadata": {},
   "source": [
    "## Unterschiede zu Python Listen\n",
    "* Man beachte dass `[1, 2, 3] + [4, 5, 6]` die Listen konkateniert\n",
    "* Die Listen-Operationen könnte man natürlich auch mit einem Loop realisieren; das wäre jedoch wesentlich langsamer."
   ]
  },
  {
   "cell_type": "markdown",
   "id": "6b1a2e9f-9823-449e-9792-7b2864104990",
   "metadata": {},
   "source": [
    "Erweiterungen oder Konkatenation sind bei Numpy-Arrays anders als bei Python-Listenanders:"
   ]
  },
  {
   "cell_type": "code",
   "execution_count": 9,
   "id": "f64e3b5a-647b-4b1d-9378-b73c4ae5c238",
   "metadata": {},
   "outputs": [
    {
     "data": {
      "text/plain": [
       "array([10, 20, 30, 40])"
      ]
     },
     "execution_count": 9,
     "metadata": {},
     "output_type": "execute_result"
    }
   ],
   "source": [
    "np.append(arr, 40)"
   ]
  },
  {
   "cell_type": "markdown",
   "id": "93c05e47-7321-422d-9b35-1ff85e9b6eb6",
   "metadata": {},
   "source": [
    "Das Array wird dabei nicht verändert:"
   ]
  },
  {
   "cell_type": "code",
   "execution_count": 10,
   "id": "74d88e49-e5fc-477a-83d4-02e288069620",
   "metadata": {},
   "outputs": [
    {
     "data": {
      "text/plain": [
       "array([10, 20, 30])"
      ]
     },
     "execution_count": 10,
     "metadata": {},
     "output_type": "execute_result"
    }
   ],
   "source": [
    "arr"
   ]
  },
  {
   "cell_type": "markdown",
   "id": "24b170f4-786f-4576-bcbc-1312950b5ca6",
   "metadata": {},
   "source": [
    "Konkatenation von Arrays"
   ]
  },
  {
   "cell_type": "code",
   "execution_count": 11,
   "id": "02342114-7898-499f-af13-2717dc76a18d",
   "metadata": {},
   "outputs": [
    {
     "data": {
      "text/plain": [
       "array([10, 20, 30, 40, 50, 60])"
      ]
     },
     "execution_count": 11,
     "metadata": {},
     "output_type": "execute_result"
    }
   ],
   "source": [
    "np.concatenate((arr, arr2))"
   ]
  },
  {
   "cell_type": "markdown",
   "id": "ea67c9bd-7309-46e2-9d30-49d692c6402d",
   "metadata": {},
   "source": [
    "## Ranges"
   ]
  },
  {
   "cell_type": "code",
   "execution_count": 12,
   "id": "b5e2bcb6-d993-440d-ae06-19d5eb1e083f",
   "metadata": {},
   "outputs": [
    {
     "data": {
      "text/plain": [
       "array([0, 1, 2, 3, 4])"
      ]
     },
     "execution_count": 12,
     "metadata": {},
     "output_type": "execute_result"
    }
   ],
   "source": [
    "np.arange(5)"
   ]
  },
  {
   "cell_type": "code",
   "execution_count": 13,
   "id": "4a7253f5-f6a5-4025-aae3-f3d7e3cb8302",
   "metadata": {},
   "outputs": [
    {
     "data": {
      "text/plain": [
       "array([3, 4, 5, 6])"
      ]
     },
     "execution_count": 13,
     "metadata": {},
     "output_type": "execute_result"
    }
   ],
   "source": [
    "np.arange(3, 7)"
   ]
  },
  {
   "cell_type": "code",
   "execution_count": 14,
   "id": "45b65ce1-4629-4023-b710-68edae44c43f",
   "metadata": {},
   "outputs": [
    {
     "data": {
      "text/plain": [
       "array([ 3,  5,  7,  9, 11])"
      ]
     },
     "execution_count": 14,
     "metadata": {},
     "output_type": "execute_result"
    }
   ],
   "source": [
    "np.arange(3, 13, 2)"
   ]
  },
  {
   "cell_type": "code",
   "execution_count": 15,
   "id": "553230e7-79a7-4764-b4ef-db9ba196b0e2",
   "metadata": {},
   "outputs": [
    {
     "data": {
      "text/plain": [
       "array([15., 17., 19., 21., 23., 25.])"
      ]
     },
     "execution_count": 15,
     "metadata": {},
     "output_type": "execute_result"
    }
   ],
   "source": [
    "np.linspace(15, 25, 6)"
   ]
  },
  {
   "cell_type": "code",
   "execution_count": 16,
   "id": "ac539c74-2005-4d95-a21b-52b81d7db597",
   "metadata": {},
   "outputs": [
    {
     "data": {
      "text/plain": [
       "array([1., 1., 1., 1., 1.])"
      ]
     },
     "execution_count": 16,
     "metadata": {},
     "output_type": "execute_result"
    }
   ],
   "source": [
    "np.ones(5)"
   ]
  },
  {
   "cell_type": "code",
   "execution_count": 17,
   "id": "06787351-85d0-4abf-ad7a-eebc73741c06",
   "metadata": {},
   "outputs": [
    {
     "data": {
      "text/plain": [
       "array([0., 0., 0., 0., 0.])"
      ]
     },
     "execution_count": 17,
     "metadata": {},
     "output_type": "execute_result"
    }
   ],
   "source": [
    "np.zeros(5)"
   ]
  },
  {
   "cell_type": "markdown",
   "id": "74d88a81-c65a-4051-b223-e1345b9d12c5",
   "metadata": {},
   "source": [
    "## Slicing"
   ]
  },
  {
   "cell_type": "code",
   "execution_count": 18,
   "id": "cbc9de5a-1daa-4d5a-bb84-06d1f05c4166",
   "metadata": {},
   "outputs": [
    {
     "data": {
      "text/plain": [
       "array([  0,  10,  20,  30,  40,  50,  60,  70,  80,  90, 100])"
      ]
     },
     "execution_count": 18,
     "metadata": {},
     "output_type": "execute_result"
    }
   ],
   "source": [
    "arr3 = np.arange(0, 101, 10)\n",
    "arr3"
   ]
  },
  {
   "cell_type": "code",
   "execution_count": 19,
   "id": "3f47f9b8-f0d8-4d65-8138-8ac3043b094a",
   "metadata": {},
   "outputs": [
    {
     "data": {
      "text/plain": [
       "array([10, 20])"
      ]
     },
     "execution_count": 19,
     "metadata": {},
     "output_type": "execute_result"
    }
   ],
   "source": [
    "arr3[1:3] # start:end"
   ]
  },
  {
   "cell_type": "code",
   "execution_count": 20,
   "id": "d63543b8-1893-47a2-8764-d31ddaad1c25",
   "metadata": {},
   "outputs": [
    {
     "data": {
      "text/plain": [
       "array([ 0, 20, 40, 60, 80])"
      ]
     },
     "execution_count": 20,
     "metadata": {},
     "output_type": "execute_result"
    }
   ],
   "source": [
    "arr3[0:10:2]  # start:end:step"
   ]
  },
  {
   "cell_type": "markdown",
   "id": "6b175919-71a7-4ee8-8b07-f6c16dac8c84",
   "metadata": {},
   "source": [
    "## dtype\n",
    "* Python ist dynamisch getypt: Variablen besitzen keinen statischen Datentyp sondern können Werte mit beliebigen Typ enthalten\n",
    "* C ist statisch getypt: Jeder Variablen ist ein Datentyp zugeordnet, die Werte dieser Variablen sind immer von diesem Typ\n",
    "* Im Gegensatz zu Python besitzten in einem C-Array alle Elemente den selben Datentyp (also z.B. alles Ganzzahlen oder alles Fließkommazahlen); das erlaubt schnellere Implementierungen\n",
    "* numpy-Arrays basieren auf C-Arrays; daher müssen sie auch typisiert werden: dieser (Element-) Typ heißt dtype\n",
    "* Wenn man nichts angibt, wir der dtype automatisch bestimmt"
   ]
  },
  {
   "cell_type": "code",
   "execution_count": 21,
   "id": "5c129bd4-ac9c-4103-805c-6da3dab23727",
   "metadata": {},
   "outputs": [
    {
     "data": {
      "text/plain": [
       "dtype('int64')"
      ]
     },
     "execution_count": 21,
     "metadata": {},
     "output_type": "execute_result"
    }
   ],
   "source": [
    "np.array([1,2]).dtype"
   ]
  },
  {
   "cell_type": "code",
   "execution_count": 22,
   "id": "4d8b8685-b8e7-4d58-bdbc-22059ae4f602",
   "metadata": {},
   "outputs": [
    {
     "data": {
      "text/plain": [
       "dtype('float64')"
      ]
     },
     "execution_count": 22,
     "metadata": {},
     "output_type": "execute_result"
    }
   ],
   "source": [
    "np.array([1.5,2.5]).dtype"
   ]
  },
  {
   "cell_type": "code",
   "execution_count": 23,
   "id": "53f51987-a68c-4708-813a-46879230bb50",
   "metadata": {},
   "outputs": [
    {
     "data": {
      "text/plain": [
       "array([1. , 1.5])"
      ]
     },
     "execution_count": 23,
     "metadata": {},
     "output_type": "execute_result"
    }
   ],
   "source": [
    "arr3 = np.array([1, 1.5])\n",
    "arr3"
   ]
  },
  {
   "cell_type": "code",
   "execution_count": 24,
   "id": "457bf0fd-2494-4251-b6db-1e0f73f78eb1",
   "metadata": {},
   "outputs": [
    {
     "data": {
      "text/plain": [
       "dtype('float64')"
      ]
     },
     "execution_count": 24,
     "metadata": {},
     "output_type": "execute_result"
    }
   ],
   "source": [
    "arr3.dtype"
   ]
  },
  {
   "cell_type": "markdown",
   "id": "bd648734-4406-4869-bcd2-32d957eb1dbb",
   "metadata": {},
   "source": [
    "Es ist auch möglich, den dtype explizit zu setzen:"
   ]
  },
  {
   "cell_type": "code",
   "execution_count": 25,
   "id": "57c56385-f103-4046-91eb-c2752d660676",
   "metadata": {},
   "outputs": [
    {
     "data": {
      "text/plain": [
       "array([1., 2., 3.])"
      ]
     },
     "execution_count": 25,
     "metadata": {},
     "output_type": "execute_result"
    }
   ],
   "source": [
    "np.array([1,2,3], dtype=float)"
   ]
  },
  {
   "cell_type": "code",
   "execution_count": 26,
   "id": "d75cbafd-6ab4-4df1-8012-af4f93e1e77c",
   "metadata": {},
   "outputs": [
    {
     "data": {
      "text/plain": [
       "array([1., 2., 3.], dtype=float32)"
      ]
     },
     "execution_count": 26,
     "metadata": {},
     "output_type": "execute_result"
    }
   ],
   "source": [
    "np.array([1,2,3], dtype='float32')"
   ]
  },
  {
   "cell_type": "code",
   "execution_count": 27,
   "id": "36cf8938-9809-4fdd-8a9b-c7fc6775bb61",
   "metadata": {},
   "outputs": [
    {
     "data": {
      "text/plain": [
       "array([1, 2, 3])"
      ]
     },
     "execution_count": 27,
     "metadata": {},
     "output_type": "execute_result"
    }
   ],
   "source": [
    "np.array([1,2,3.5], dtype=int)"
   ]
  },
  {
   "cell_type": "code",
   "execution_count": 28,
   "id": "06d73c14-8a52-43d7-9220-9be852635853",
   "metadata": {},
   "outputs": [
    {
     "data": {
      "text/plain": [
       "array([1, 2, 3], dtype=int32)"
      ]
     },
     "execution_count": 28,
     "metadata": {},
     "output_type": "execute_result"
    }
   ],
   "source": [
    "np.array([1,2,3.5], dtype='int32')"
   ]
  },
  {
   "cell_type": "code",
   "execution_count": 29,
   "id": "ff5ad61c-75f3-4663-8ada-9d0cd186954d",
   "metadata": {},
   "outputs": [
    {
     "data": {
      "text/plain": [
       "array([1, 2, 3])"
      ]
     },
     "execution_count": 29,
     "metadata": {},
     "output_type": "execute_result"
    }
   ],
   "source": [
    "np.array([1,2,3.5], dtype='int')"
   ]
  },
  {
   "cell_type": "markdown",
   "id": "76d7c552-58cd-47ca-a884-9f0e5c7cf170",
   "metadata": {},
   "source": [
    "## zeros und ones"
   ]
  },
  {
   "cell_type": "code",
   "execution_count": 30,
   "id": "14f00783-d281-495a-bffc-944be0264508",
   "metadata": {},
   "outputs": [
    {
     "data": {
      "text/plain": [
       "array([0., 0., 0., 0., 0.])"
      ]
     },
     "execution_count": 30,
     "metadata": {},
     "output_type": "execute_result"
    }
   ],
   "source": [
    "np.zeros(5)"
   ]
  },
  {
   "cell_type": "code",
   "execution_count": 31,
   "id": "4bc697dc-0805-48e4-b540-c43795fa742f",
   "metadata": {},
   "outputs": [
    {
     "data": {
      "text/plain": [
       "array([0, 0, 0, 0, 0])"
      ]
     },
     "execution_count": 31,
     "metadata": {},
     "output_type": "execute_result"
    }
   ],
   "source": [
    "np.zeros(5, dtype=int)"
   ]
  },
  {
   "cell_type": "code",
   "execution_count": 32,
   "id": "758af8ff-cba3-47ac-b37d-49aa6539a0c6",
   "metadata": {},
   "outputs": [
    {
     "data": {
      "text/plain": [
       "array([1., 1., 1., 1., 1.])"
      ]
     },
     "execution_count": 32,
     "metadata": {},
     "output_type": "execute_result"
    }
   ],
   "source": [
    "np.ones(5)"
   ]
  },
  {
   "cell_type": "code",
   "execution_count": 33,
   "id": "03000ef9-d76b-4479-94fe-7230fe953517",
   "metadata": {},
   "outputs": [
    {
     "data": {
      "text/plain": [
       "array([1, 1, 1, 1, 1])"
      ]
     },
     "execution_count": 33,
     "metadata": {},
     "output_type": "execute_result"
    }
   ],
   "source": [
    "np.ones(5, dtype=int)"
   ]
  },
  {
   "cell_type": "code",
   "execution_count": 36,
   "id": "fa28bb47-a90d-454f-bc46-8ee780bf6d6e",
   "metadata": {},
   "outputs": [
    {
     "data": {
      "text/plain": [
       "array([0, 1, 2, 3, 4, 5])"
      ]
     },
     "execution_count": 36,
     "metadata": {},
     "output_type": "execute_result"
    }
   ],
   "source": [
    "np.linspace(0, 5, 6, dtype=int)"
   ]
  },
  {
   "cell_type": "code",
   "execution_count": 39,
   "id": "1f640289-a4ea-4b43-ae95-f52b5098accd",
   "metadata": {},
   "outputs": [
    {
     "data": {
      "text/plain": [
       "array([19950631168807583848837421626835850838234968318861924548520089498529438830221946631919961684036194597899331129423209124271556491349413781117593785932096323957855730046793794526765246551266059895520550086918193311542508608460618104685509074866089624888090489894838009253941633257850621568309473902556912388065225096643874441046759871626985453222868538161694315775629640762836880760732228535091641476183956381458969463899410840960536267821064621427333394036525565649530603142680234969400335934316651459297773279665775606172582031407994198179607378245683762280037302885487251900834464581454650557929601414833921615734588139257095379769119277800826957735674444123062018757836325502728323789270710373802866393031428133241401624195671690574061419654342324638801248856147305207431992259611796250130992860241708340807605932320161268492288496255841312844061536738951487114256315111089745514203313820202931640957596464756010405845841566072044962867016515061920631004186422275908670900574606417856951911456055068251250406007519842261898059237118054444788072906395242548339221982707404473162376760846613033778706039803413197133493654622700563169937455508241780972810983291314403571877524768509857276937926433221599399876886660808368837838027643282775172273657572744784112294389733810861607423253291974813120197604178281965697475898164531258434135959862784130128185406283476649088690521047580882615823961985770122407044330583075869039319604603404973156583208672105913300903752823415539745394397715257455290510212310947321610753474825740775273986348298498340756937955646638621874569499279016572103701364433135817214311791398222983845847334440270964182851005072927748364550578634501100852987812389473928699540834346158807043959118985815145779177143619698728131459483783202081474982171858011389071228250905826817436220577475921417653715687725614904582904992461028630081535583308130101987675856234343538955409175623400844887526162643568648833519463720377293240094456246923254350400678027273837755376406726898636241037491410966718557050759098100246789880178271925953381282421954028302759408448955014676668389697996886241636313376393903373455801407636741877711055384225739499110186468219696581651485130494222369947714763069155468217682876200362777257723781365331611196811280792669481887201298643660768551639860534602297871557517947385246369446923087894265948217008051120322365496288169035739121368338393591756418733850510970271613915439590991598154654417336311656936031122249937969999226781732358023111862644575299135758175008199839236284615249881088960232244362173771618086357015468484058622329792853875623486556440536962622018963571028812361567512543338303270029097668650568557157505516727518899194129711337690149916181315171544007728650573189557450920330185304847113818315407324053319038462084036421763703911550639789000742853672196280903477974533320468368795868580237952218629120080742819551317948157624448298518461509704888027274721574688131594750409732115080498190455803416826949787141316063210686391511681774304792596709376],\n",
       "      dtype=object)"
      ]
     },
     "execution_count": 39,
     "metadata": {},
     "output_type": "execute_result"
    }
   ],
   "source": [
    "np.array([2**10000])"
   ]
  },
  {
   "cell_type": "markdown",
   "id": "4f155abe-fcd6-43da-9ba9-b6000492d0bd",
   "metadata": {},
   "source": [
    "## Performanzvergleich"
   ]
  },
  {
   "cell_type": "code",
   "execution_count": 40,
   "id": "6c3f05d0-9752-49af-becc-bffb1fe05793",
   "metadata": {},
   "outputs": [],
   "source": [
    "import timeit"
   ]
  },
  {
   "cell_type": "code",
   "execution_count": null,
   "id": "371c97fc-7d09-48cc-a845-741b2067f762",
   "metadata": {},
   "outputs": [],
   "source": [
    "help(timeit.timeit)"
   ]
  },
  {
   "cell_type": "code",
   "execution_count": 41,
   "id": "b0286068-2480-4380-8303-1dfbeb6ea6eb",
   "metadata": {},
   "outputs": [
    {
     "data": {
      "text/plain": [
       "8.269306913000037"
      ]
     },
     "execution_count": 41,
     "metadata": {},
     "output_type": "execute_result"
    }
   ],
   "source": [
    "# Summe der Elemente eines Vektors, reines Python\n",
    "timeit.timeit(lambda : sum(np.ones(1_000_000)), number=100)"
   ]
  },
  {
   "cell_type": "code",
   "execution_count": 42,
   "id": "acdfe6f3-14cc-4dec-a9ee-84fa16597649",
   "metadata": {},
   "outputs": [
    {
     "data": {
      "text/plain": [
       "0.21844898500012278"
      ]
     },
     "execution_count": 42,
     "metadata": {},
     "output_type": "execute_result"
    }
   ],
   "source": [
    "# Summe der Elemente eines Vektors mit np.sum\n",
    "timeit.timeit(lambda : np.sum(np.ones(1_000_000)), number=100)"
   ]
  },
  {
   "cell_type": "code",
   "execution_count": 43,
   "id": "81f85a40-e760-4a3a-9d40-9dfacde9239e",
   "metadata": {},
   "outputs": [
    {
     "data": {
      "text/plain": [
       "10.982553095999947"
      ]
     },
     "execution_count": 43,
     "metadata": {},
     "output_type": "execute_result"
    }
   ],
   "source": [
    "# Elementweises Produkt zweier Vektoren, reines Python\n",
    "timeit.timeit('[x*y for x, y in zip(parr,parr)]', setup='parr=1_000_000 * [1.5]', number=100)"
   ]
  },
  {
   "cell_type": "code",
   "execution_count": 44,
   "id": "190f54dc-160a-4138-99db-d3017827e2bd",
   "metadata": {},
   "outputs": [
    {
     "data": {
      "text/plain": [
       "0.183054951000031"
      ]
     },
     "execution_count": 44,
     "metadata": {},
     "output_type": "execute_result"
    }
   ],
   "source": [
    "# Elementweises Produkt zweier Vektoren mit numpy\n",
    "timeit.timeit('narr * narr', setup='import numpy as np; narr=np.ones(1_000_000) * 1.5', number=100)"
   ]
  },
  {
   "cell_type": "markdown",
   "id": "435d6d84-1b0c-4875-927f-3f5057eae9be",
   "metadata": {},
   "source": [
    "## Mehrdimensionale Arrays\n",
    "Im Gegensatz zu Python, das keine mehrdimensionalen Listen kennt, gibt es in Numpy mehrdimensionale Arrays."
   ]
  },
  {
   "cell_type": "code",
   "execution_count": 53,
   "id": "94fecdbe-16c3-4ecf-bb72-6509244d9b6a",
   "metadata": {},
   "outputs": [
    {
     "data": {
      "text/plain": [
       "array([[ 1,  2,  3,  4],\n",
       "       [ 5,  6,  7,  8],\n",
       "       [ 9, 10, 11, 12]])"
      ]
     },
     "execution_count": 53,
     "metadata": {},
     "output_type": "execute_result"
    }
   ],
   "source": [
    "# Erzeugung eines 2-dimensionalen Arrays\n",
    "mat = np.array([[1, 2, 3, 4], [5, 6, 7, 8], [9, 10, 11, 12]])\n",
    "mat"
   ]
  },
  {
   "cell_type": "code",
   "execution_count": 54,
   "id": "12442d0e-2f68-4909-81c3-d1f14e00ad99",
   "metadata": {},
   "outputs": [
    {
     "data": {
      "text/plain": [
       "3"
      ]
     },
     "execution_count": 54,
     "metadata": {},
     "output_type": "execute_result"
    }
   ],
   "source": [
    "# len liefert die Anzahl Zeilen\n",
    "len(mat)"
   ]
  },
  {
   "cell_type": "code",
   "execution_count": 55,
   "id": "65e256b9-dde9-430a-b171-94c19581f1df",
   "metadata": {},
   "outputs": [
    {
     "data": {
      "text/plain": [
       "(3, 4)"
      ]
     },
     "execution_count": 55,
     "metadata": {},
     "output_type": "execute_result"
    }
   ],
   "source": [
    "# shape liefert Anzahl zeilen und Spalten als Tupel\n",
    "mat.shape"
   ]
  },
  {
   "cell_type": "code",
   "execution_count": 56,
   "id": "c504f2e8-7b23-4a93-a2db-91ea81e7c93e",
   "metadata": {},
   "outputs": [
    {
     "data": {
      "text/plain": [
       "2"
      ]
     },
     "execution_count": 56,
     "metadata": {},
     "output_type": "execute_result"
    }
   ],
   "source": [
    "# ndim ist die Anzahl der Dimensionen\n",
    "mat.ndim"
   ]
  },
  {
   "cell_type": "code",
   "execution_count": 58,
   "id": "b9b4ce60-1a81-42db-8f11-d9760a8e0c43",
   "metadata": {},
   "outputs": [
    {
     "data": {
      "text/plain": [
       "12"
      ]
     },
     "execution_count": 58,
     "metadata": {},
     "output_type": "execute_result"
    }
   ],
   "source": [
    "# Zugriff auf ein Element\n",
    "mat[2,3]"
   ]
  },
  {
   "cell_type": "code",
   "execution_count": 59,
   "id": "25c9116a-dc20-4e45-b8d5-7a8d325d8179",
   "metadata": {},
   "outputs": [
    {
     "data": {
      "text/plain": [
       "array([[[ 1,  2],\n",
       "        [ 3,  4]],\n",
       "\n",
       "       [[11, 12],\n",
       "        [13, 14]]])"
      ]
     },
     "execution_count": 59,
     "metadata": {},
     "output_type": "execute_result"
    }
   ],
   "source": [
    "ten = np.array([[[1,2], [3,4]], [[11,12], [13,14]]])\n",
    "ten"
   ]
  },
  {
   "cell_type": "code",
   "execution_count": null,
   "id": "b01e476d-e98c-4dd0-97ed-95f81f832ba7",
   "metadata": {},
   "outputs": [],
   "source": [
    "ten.shape"
   ]
  },
  {
   "cell_type": "markdown",
   "id": "2c38338b-0c33-45e7-9553-32d9bf0cd781",
   "metadata": {},
   "source": [
    "## Slices bei mehrdimensionalen Arrays"
   ]
  },
  {
   "cell_type": "code",
   "execution_count": 60,
   "id": "56a24f4f-433d-4392-8afc-aa06d3b01c63",
   "metadata": {},
   "outputs": [
    {
     "data": {
      "text/plain": [
       "array([[2, 3],\n",
       "       [6, 7]])"
      ]
     },
     "execution_count": 60,
     "metadata": {},
     "output_type": "execute_result"
    }
   ],
   "source": [
    "mat0 = mat[0:2, 1:3]\n",
    "mat0"
   ]
  },
  {
   "cell_type": "code",
   "execution_count": 61,
   "id": "22209181-93c9-4227-8536-1f03b732de97",
   "metadata": {},
   "outputs": [
    {
     "data": {
      "text/plain": [
       "array([[42,  3],\n",
       "       [ 6,  7]])"
      ]
     },
     "execution_count": 61,
     "metadata": {},
     "output_type": "execute_result"
    }
   ],
   "source": [
    "mat0[0,0] = 42\n",
    "mat0"
   ]
  },
  {
   "cell_type": "code",
   "execution_count": 62,
   "id": "d571fdf3-a5e7-426c-a84e-872648f0d239",
   "metadata": {},
   "outputs": [
    {
     "data": {
      "text/plain": [
       "array([[ 1, 42,  3,  4],\n",
       "       [ 5,  6,  7,  8],\n",
       "       [ 9, 10, 11, 12]])"
      ]
     },
     "execution_count": 62,
     "metadata": {},
     "output_type": "execute_result"
    }
   ],
   "source": [
    "# mat0 ist eine View! Veränderungen an mat0 wirken sich auch auf mat aus\n",
    "mat"
   ]
  },
  {
   "cell_type": "code",
   "execution_count": 63,
   "id": "b52a0e43-ffb5-456c-9715-35e620a5d079",
   "metadata": {},
   "outputs": [
    {
     "data": {
      "text/plain": [
       "array([[ 1,  2,  3,  4],\n",
       "       [ 5,  6,  7,  8],\n",
       "       [ 9, 10, 11, 12]])"
      ]
     },
     "execution_count": 63,
     "metadata": {},
     "output_type": "execute_result"
    }
   ],
   "source": [
    "mat[0, 1] = 2\n",
    "mat"
   ]
  },
  {
   "cell_type": "code",
   "execution_count": 64,
   "id": "791510ae-3c36-439c-a7a6-ee751a1a23db",
   "metadata": {},
   "outputs": [
    {
     "data": {
      "text/plain": [
       "array([ 2,  6, 10])"
      ]
     },
     "execution_count": 64,
     "metadata": {},
     "output_type": "execute_result"
    }
   ],
   "source": [
    "# Auswählen einer Zeile oder Spalte\n",
    "mat[:, 1]"
   ]
  },
  {
   "cell_type": "code",
   "execution_count": 67,
   "id": "99dca972-b489-4d67-a388-d93d786396cd",
   "metadata": {},
   "outputs": [
    {
     "data": {
      "text/plain": [
       "array([[2, 3],\n",
       "       [6, 7]])"
      ]
     },
     "execution_count": 67,
     "metadata": {},
     "output_type": "execute_result"
    }
   ],
   "source": [
    "# Auswählen mehrerer Zeilen oder Spaltem\n",
    "mat[:2, 1:3]"
   ]
  },
  {
   "cell_type": "code",
   "execution_count": 68,
   "id": "340188b1-7ad9-468d-8af8-c6720296952d",
   "metadata": {},
   "outputs": [
    {
     "name": "stdout",
     "output_type": "stream",
     "text": [
      "[[ 1  2  3  4]\n",
      " [ 5  6  7  8]\n",
      " [ 9 10 11 12]]\n",
      "None\n"
     ]
    }
   ],
   "source": [
    "# Test, ob ein Array eine  View ist:\n",
    "# Bei views liefert das Attribut base die zugrundeliegende Struktur; \n",
    "# wenn es keine View ist, dann ist base gleich None\n",
    "print(mat0.base)\n",
    "print(mat.base)"
   ]
  },
  {
   "cell_type": "code",
   "execution_count": 71,
   "id": "c97735ea-df38-4847-9532-f6446b1fa129",
   "metadata": {},
   "outputs": [],
   "source": [
    "mat0.base[1,1] = 77"
   ]
  },
  {
   "cell_type": "code",
   "execution_count": 72,
   "id": "04a7f875-ee56-4357-89d3-e0b7945841c5",
   "metadata": {},
   "outputs": [
    {
     "data": {
      "text/plain": [
       "array([[ 2,  3],\n",
       "       [77,  7]])"
      ]
     },
     "execution_count": 72,
     "metadata": {},
     "output_type": "execute_result"
    }
   ],
   "source": [
    "mat0"
   ]
  },
  {
   "cell_type": "code",
   "execution_count": 74,
   "id": "c9b22b27-200d-4091-9c01-43664a31fa33",
   "metadata": {},
   "outputs": [
    {
     "data": {
      "text/plain": [
       "array([[ 1,  2,  3,  4],\n",
       "       [ 5, 77,  7,  8],\n",
       "       [ 9, 10, 11, 12]])"
      ]
     },
     "execution_count": 74,
     "metadata": {},
     "output_type": "execute_result"
    }
   ],
   "source": [
    "mat"
   ]
  },
  {
   "cell_type": "code",
   "execution_count": 73,
   "id": "25d1cba5-5b4a-478d-93de-b2ebda1b0037",
   "metadata": {},
   "outputs": [
    {
     "data": {
      "text/plain": [
       "array([[ 1,  2,  3,  4],\n",
       "       [ 5, 77,  7,  8],\n",
       "       [ 9, 10, 11, 12]])"
      ]
     },
     "execution_count": 73,
     "metadata": {},
     "output_type": "execute_result"
    }
   ],
   "source": [
    "mat0.base"
   ]
  },
  {
   "cell_type": "markdown",
   "id": "5d6e3e30-6926-4946-9e0a-d8ade21ab69c",
   "metadata": {},
   "source": [
    "## Ändern des Shape eines Arrays"
   ]
  },
  {
   "cell_type": "code",
   "execution_count": 75,
   "id": "8b754e60-14c1-4403-84fd-904f77324cae",
   "metadata": {},
   "outputs": [
    {
     "data": {
      "text/plain": [
       "array([[ 1,  2,  3,  4],\n",
       "       [ 5, 77,  7,  8],\n",
       "       [ 9, 10, 11, 12]])"
      ]
     },
     "execution_count": 75,
     "metadata": {},
     "output_type": "execute_result"
    }
   ],
   "source": [
    "mat "
   ]
  },
  {
   "cell_type": "code",
   "execution_count": 81,
   "id": "ec41a21c-1f1f-48aa-a4d7-9515105c9092",
   "metadata": {},
   "outputs": [
    {
     "data": {
      "text/plain": [
       "array([[ 1,  2,  3,  4,  5, 77],\n",
       "       [ 7,  8,  9, 10, 11, 12]])"
      ]
     },
     "execution_count": 81,
     "metadata": {},
     "output_type": "execute_result"
    }
   ],
   "source": [
    "mat.reshape([2,6])"
   ]
  },
  {
   "cell_type": "code",
   "execution_count": 80,
   "id": "049bed99-6aa3-49e5-91ed-e4c2988c843f",
   "metadata": {},
   "outputs": [
    {
     "data": {
      "text/plain": [
       "array([[ 1,  2,  3,  4],\n",
       "       [ 5, 77,  7,  8],\n",
       "       [ 9, 10, 11, 12]])"
      ]
     },
     "execution_count": 80,
     "metadata": {},
     "output_type": "execute_result"
    }
   ],
   "source": [
    "mat"
   ]
  },
  {
   "cell_type": "code",
   "execution_count": 78,
   "id": "ba43ac2c-83f6-4181-bcab-7e7128bddb86",
   "metadata": {},
   "outputs": [
    {
     "name": "stdout",
     "output_type": "stream",
     "text": [
      "[[ 1  2  3  4  5 77]\n",
      " [ 7  8  9 10 11 12]]\n",
      "[[ 1  2  3  4]\n",
      " [ 5 77  7  8]\n",
      " [ 9 10 11 12]]\n",
      "[[ 1  2  3  4]\n",
      " [ 5 77  7  8]\n",
      " [ 9 10 11 12]]\n"
     ]
    }
   ],
   "source": [
    "# reshape erzeugt eine neue View\n",
    "mat2 = mat.reshape(2, 6)\n",
    "print(mat2)\n",
    "print(mat2.base)\n",
    "print(mat)"
   ]
  },
  {
   "cell_type": "code",
   "execution_count": 82,
   "id": "7108e5fa-b779-4e37-ad6d-baef4ae1195b",
   "metadata": {},
   "outputs": [
    {
     "data": {
      "text/plain": [
       "array([[ 1,  2,  3,  4,  5, 77],\n",
       "       [ 7,  8,  9, 10, 11, 12]])"
      ]
     },
     "execution_count": 82,
     "metadata": {},
     "output_type": "execute_result"
    }
   ],
   "source": [
    "mat.reshape((2,-1))"
   ]
  },
  {
   "cell_type": "code",
   "execution_count": 83,
   "id": "aa57b948-95a9-46cb-a390-e09be4ec6a04",
   "metadata": {},
   "outputs": [
    {
     "data": {
      "text/plain": [
       "array([[ 1,  2,  3,  4,  5, 77],\n",
       "       [ 7,  8,  9, 10, 11, 12]])"
      ]
     },
     "execution_count": 83,
     "metadata": {},
     "output_type": "execute_result"
    }
   ],
   "source": [
    "#Verändern des Shape eines Arrays\n",
    "mat.shape = (2,-1)\n",
    "mat"
   ]
  },
  {
   "cell_type": "code",
   "execution_count": 84,
   "id": "8d77116a-2a3d-4997-b9f0-c4ef6420a1a1",
   "metadata": {},
   "outputs": [
    {
     "data": {
      "text/plain": [
       "array([[[ 1,  2,  3],\n",
       "        [ 4,  5, 77]],\n",
       "\n",
       "       [[ 7,  8,  9],\n",
       "        [10, 11, 12]]])"
      ]
     },
     "execution_count": 84,
     "metadata": {},
     "output_type": "execute_result"
    }
   ],
   "source": [
    "mat.shape = (2,2,3)\n",
    "mat"
   ]
  },
  {
   "cell_type": "code",
   "execution_count": 85,
   "id": "3f9aca38-b373-45c0-a9e0-1c373110f41c",
   "metadata": {},
   "outputs": [
    {
     "data": {
      "text/plain": [
       "array([ 1,  2,  3,  4,  5, 77,  7,  8,  9, 10, 11, 12])"
      ]
     },
     "execution_count": 85,
     "metadata": {},
     "output_type": "execute_result"
    }
   ],
   "source": [
    "mat.flatten()"
   ]
  },
  {
   "cell_type": "code",
   "execution_count": 86,
   "id": "493240a9-5dcb-4c9a-b854-9665b1e59379",
   "metadata": {},
   "outputs": [
    {
     "data": {
      "text/plain": [
       "array([[[ 1,  2,  3],\n",
       "        [ 4,  5, 77]],\n",
       "\n",
       "       [[ 7,  8,  9],\n",
       "        [10, 11, 12]]])"
      ]
     },
     "execution_count": 86,
     "metadata": {},
     "output_type": "execute_result"
    }
   ],
   "source": [
    "mat"
   ]
  },
  {
   "cell_type": "markdown",
   "id": "b1cbd067-9965-48a3-adfb-52828cfd8b67",
   "metadata": {},
   "source": [
    "## Konkatenation von Arrays"
   ]
  },
  {
   "cell_type": "code",
   "execution_count": 87,
   "id": "c3a61fb6-95de-44cb-9ff2-46e317274b5b",
   "metadata": {},
   "outputs": [
    {
     "name": "stdout",
     "output_type": "stream",
     "text": [
      "[[1 2]\n",
      " [3 4]]\n",
      "-----\n",
      "[[6 7]\n",
      " [8 9]]\n"
     ]
    }
   ],
   "source": [
    "arr1 = np.array([[1, 2], [3, 4]])\n",
    "arr2 = 5 + arr1\n",
    "print(arr1)\n",
    "print(\"-----\")\n",
    "print(arr2)"
   ]
  },
  {
   "cell_type": "code",
   "execution_count": 88,
   "id": "a8b7d279-871f-44ac-94fb-9f1608f68716",
   "metadata": {},
   "outputs": [
    {
     "data": {
      "text/plain": [
       "array([[1, 2],\n",
       "       [3, 4],\n",
       "       [6, 7],\n",
       "       [8, 9]])"
      ]
     },
     "execution_count": 88,
     "metadata": {},
     "output_type": "execute_result"
    }
   ],
   "source": [
    "np.concatenate((arr1, arr2))"
   ]
  },
  {
   "cell_type": "code",
   "execution_count": 89,
   "id": "6f362dc0-ee54-49bc-8ff3-1b1af222f576",
   "metadata": {},
   "outputs": [
    {
     "data": {
      "text/plain": [
       "array([[1, 2],\n",
       "       [3, 4],\n",
       "       [6, 7],\n",
       "       [8, 9]])"
      ]
     },
     "execution_count": 89,
     "metadata": {},
     "output_type": "execute_result"
    }
   ],
   "source": [
    "np.concatenate((arr1, arr2), axis=0)"
   ]
  },
  {
   "cell_type": "code",
   "execution_count": 90,
   "id": "40534dcf-6b14-4a32-8490-53974109650c",
   "metadata": {},
   "outputs": [
    {
     "data": {
      "text/plain": [
       "array([[1, 2, 6, 7],\n",
       "       [3, 4, 8, 9]])"
      ]
     },
     "execution_count": 90,
     "metadata": {},
     "output_type": "execute_result"
    }
   ],
   "source": [
    "np.concatenate((arr1, arr2), axis=1)"
   ]
  },
  {
   "cell_type": "markdown",
   "id": "0ffb7769-69c9-46b2-a7fa-6be2874146dc",
   "metadata": {},
   "source": [
    "Hinzufügen einer Spalte oder einer Zeile"
   ]
  },
  {
   "cell_type": "code",
   "execution_count": 91,
   "id": "f8f158a2-c3fe-4a44-9878-e974225b003d",
   "metadata": {},
   "outputs": [],
   "source": [
    "vek = (10,11)"
   ]
  },
  {
   "cell_type": "code",
   "execution_count": 92,
   "id": "5a54e71a-9e7c-4326-a932-de86eab9f9a7",
   "metadata": {},
   "outputs": [
    {
     "data": {
      "text/plain": [
       "array([[1, 2],\n",
       "       [3, 4]])"
      ]
     },
     "execution_count": 92,
     "metadata": {},
     "output_type": "execute_result"
    }
   ],
   "source": [
    "arr1"
   ]
  },
  {
   "cell_type": "code",
   "execution_count": 93,
   "id": "1f9f2dfa-580a-4cf9-8b30-6696599dad31",
   "metadata": {},
   "outputs": [
    {
     "data": {
      "text/plain": [
       "array([[ 1,  2, 10],\n",
       "       [ 3,  4, 11]])"
      ]
     },
     "execution_count": 93,
     "metadata": {},
     "output_type": "execute_result"
    }
   ],
   "source": [
    "np.column_stack((arr1, vek))"
   ]
  },
  {
   "cell_type": "code",
   "execution_count": 94,
   "id": "66f82e38-b39f-407b-b24b-1b450de69f94",
   "metadata": {},
   "outputs": [
    {
     "data": {
      "text/plain": [
       "array([[ 1,  2],\n",
       "       [ 3,  4],\n",
       "       [10, 11]])"
      ]
     },
     "execution_count": 94,
     "metadata": {},
     "output_type": "execute_result"
    }
   ],
   "source": [
    "np.row_stack((arr1, vek))"
   ]
  },
  {
   "cell_type": "markdown",
   "id": "1dd47a86-8f94-451b-bf3d-4d39bf747619",
   "metadata": {},
   "source": [
    "# Zufall"
   ]
  },
  {
   "cell_type": "code",
   "execution_count": 95,
   "id": "27b3bcbd-ec84-466d-837f-8315e9cf2cf9",
   "metadata": {},
   "outputs": [
    {
     "data": {
      "text/plain": [
       "3"
      ]
     },
     "execution_count": 95,
     "metadata": {},
     "output_type": "execute_result"
    }
   ],
   "source": [
    "# Ganze Zufallszahl zwischen 0 (inklusiv) und 5 (exklusiv)\n",
    "np.random.randint(5)"
   ]
  },
  {
   "cell_type": "code",
   "execution_count": 97,
   "id": "ee95fb1c-ee0d-4644-9455-492465574ff8",
   "metadata": {},
   "outputs": [
    {
     "data": {
      "text/plain": [
       "9"
      ]
     },
     "execution_count": 97,
     "metadata": {},
     "output_type": "execute_result"
    }
   ],
   "source": [
    "# Ganze Zufallszahl zwischen 5 (inklusiv) und 10 (exklusiv)\n",
    "np.random.randint(5, 10)"
   ]
  },
  {
   "cell_type": "code",
   "execution_count": 98,
   "id": "d99c5906-8b1f-4f12-bd28-ad022ffc2c42",
   "metadata": {},
   "outputs": [
    {
     "data": {
      "text/plain": [
       "array([[3, 0, 0],\n",
       "       [3, 1, 2]])"
      ]
     },
     "execution_count": 98,
     "metadata": {},
     "output_type": "execute_result"
    }
   ],
   "source": [
    "# Array von Zufallszahlen\n",
    "np.random.randint(5, size=(2,3))"
   ]
  },
  {
   "cell_type": "code",
   "execution_count": 99,
   "id": "c0307024-8230-4861-80a9-045dffa9dbfc",
   "metadata": {},
   "outputs": [
    {
     "data": {
      "text/plain": [
       "0.3245217043273614"
      ]
     },
     "execution_count": 99,
     "metadata": {},
     "output_type": "execute_result"
    }
   ],
   "source": [
    "# Zufallszahl zwischen 0 und 1\n",
    "np.random.rand()"
   ]
  },
  {
   "cell_type": "code",
   "execution_count": 100,
   "id": "fb84f553-b8d4-4613-bb6b-932778c7a1d6",
   "metadata": {},
   "outputs": [
    {
     "name": "stdout",
     "output_type": "stream",
     "text": [
      "0.771320643266746\n",
      "0.0207519493594015\n",
      "0.6336482349262754\n",
      "--\n",
      "0.771320643266746\n",
      "0.0207519493594015\n",
      "0.6336482349262754\n",
      "--\n",
      "0.771320643266746\n",
      "0.0207519493594015\n",
      "0.6336482349262754\n",
      "--\n",
      "0.771320643266746\n",
      "0.0207519493594015\n",
      "0.6336482349262754\n",
      "--\n",
      "0.771320643266746\n",
      "0.0207519493594015\n",
      "0.6336482349262754\n",
      "--\n",
      "0.771320643266746\n",
      "0.0207519493594015\n",
      "0.6336482349262754\n",
      "--\n",
      "0.771320643266746\n",
      "0.0207519493594015\n",
      "0.6336482349262754\n",
      "--\n",
      "0.771320643266746\n",
      "0.0207519493594015\n",
      "0.6336482349262754\n",
      "--\n",
      "0.771320643266746\n",
      "0.0207519493594015\n",
      "0.6336482349262754\n",
      "--\n",
      "0.771320643266746\n",
      "0.0207519493594015\n",
      "0.6336482349262754\n",
      "--\n"
     ]
    }
   ],
   "source": [
    "# Demo für Seed\n",
    "for i in range(10):\n",
    "    np.random.seed(10)\n",
    "    print(np.random.rand())\n",
    "    print(np.random.rand())\n",
    "    print(np.random.rand())\n",
    "    print(\"--\")"
   ]
  },
  {
   "cell_type": "code",
   "execution_count": null,
   "id": "3423c5d5-f3bd-486b-860d-e9a349849942",
   "metadata": {},
   "outputs": [],
   "source": [
    "# Standardnormalverteile Zufallszahl\n",
    "np.random.normal()"
   ]
  },
  {
   "cell_type": "code",
   "execution_count": 101,
   "id": "a2ef4d4d-53d8-409e-be93-c90e39868a4f",
   "metadata": {},
   "outputs": [
    {
     "data": {
      "text/plain": [
       "9.969922140581918"
      ]
     },
     "execution_count": 101,
     "metadata": {},
     "output_type": "execute_result"
    }
   ],
   "source": [
    "# Normalverteile Zufallszahl mit Erwartungswert loc und Standardabweichung scale\n",
    "np.random.normal(loc=10, scale=3)"
   ]
  },
  {
   "cell_type": "code",
   "execution_count": 102,
   "id": "5d412aff-a7a3-47d5-b065-383edf82c7b5",
   "metadata": {},
   "outputs": [
    {
     "data": {
      "text/plain": [
       "3"
      ]
     },
     "execution_count": 102,
     "metadata": {},
     "output_type": "execute_result"
    }
   ],
   "source": [
    "# Zufällige Auswahl eines Arrayelements\n",
    "np.random.choice([3, 5, 7, 9])"
   ]
  },
  {
   "cell_type": "markdown",
   "id": "9e3448a0-c57d-4a21-bddf-52d765399c41",
   "metadata": {},
   "source": [
    "# Funktionen\n",
    "Zu vielen Funktionen aus math gibt es Entsprechungen in numpy. Diese können auf Arrays angewendet werden"
   ]
  },
  {
   "cell_type": "code",
   "execution_count": 103,
   "id": "fc6e2676-db82-45ba-8588-461115c19d0f",
   "metadata": {},
   "outputs": [
    {
     "data": {
      "text/plain": [
       "array([[1, 2],\n",
       "       [3, 4]])"
      ]
     },
     "execution_count": 103,
     "metadata": {},
     "output_type": "execute_result"
    }
   ],
   "source": [
    "mat = np.array([[1, 2], [3, 4]])\n",
    "mat"
   ]
  },
  {
   "cell_type": "code",
   "execution_count": 104,
   "id": "a2d8e700-5267-48b3-899d-beedecd6a7ad",
   "metadata": {},
   "outputs": [
    {
     "data": {
      "text/plain": [
       "array([[0.        , 0.69314718],\n",
       "       [1.09861229, 1.38629436]])"
      ]
     },
     "execution_count": 104,
     "metadata": {},
     "output_type": "execute_result"
    }
   ],
   "source": [
    "np.log(mat)"
   ]
  },
  {
   "cell_type": "code",
   "execution_count": 105,
   "id": "a5e0515f-e1b7-48ff-ac67-89a923db245f",
   "metadata": {},
   "outputs": [
    {
     "data": {
      "text/plain": [
       "array([[ 2.71828183,  7.3890561 ],\n",
       "       [20.08553692, 54.59815003]])"
      ]
     },
     "execution_count": 105,
     "metadata": {},
     "output_type": "execute_result"
    }
   ],
   "source": [
    "np.exp(mat)"
   ]
  },
  {
   "cell_type": "code",
   "execution_count": 106,
   "id": "df625f14-bb8a-40df-9746-8c76f6149a35",
   "metadata": {},
   "outputs": [
    {
     "data": {
      "text/plain": [
       "array([[1.        , 1.41421356],\n",
       "       [1.73205081, 2.        ]])"
      ]
     },
     "execution_count": 106,
     "metadata": {},
     "output_type": "execute_result"
    }
   ],
   "source": [
    "np.sqrt(mat)"
   ]
  },
  {
   "cell_type": "markdown",
   "id": "cd847cc5-e062-4f8e-b82f-856533c34a13",
   "metadata": {},
   "source": [
    "Die Matrizenmultiplikation kann mit dot oder @ eingegeben werden:"
   ]
  },
  {
   "cell_type": "code",
   "execution_count": 107,
   "id": "b900909f-a418-4977-81e6-d4071fdf2087",
   "metadata": {},
   "outputs": [
    {
     "data": {
      "text/plain": [
       "array([[ 7, 10],\n",
       "       [15, 22]])"
      ]
     },
     "execution_count": 107,
     "metadata": {},
     "output_type": "execute_result"
    }
   ],
   "source": [
    "mat.dot(mat)"
   ]
  },
  {
   "cell_type": "code",
   "execution_count": 108,
   "id": "6cd55fdc-f267-4d9d-ae81-f00f00b88857",
   "metadata": {},
   "outputs": [
    {
     "data": {
      "text/plain": [
       "array([[ 7, 10],\n",
       "       [15, 22]])"
      ]
     },
     "execution_count": 108,
     "metadata": {},
     "output_type": "execute_result"
    }
   ],
   "source": [
    "mat @ mat"
   ]
  },
  {
   "cell_type": "code",
   "execution_count": null,
   "id": "2b27a5ec-795a-4e18-b22c-80f3ed505fb5",
   "metadata": {},
   "outputs": [],
   "source": []
  }
 ],
 "metadata": {
  "kernelspec": {
   "display_name": "Python 3 (ipykernel)",
   "language": "python",
   "name": "python3"
  },
  "language_info": {
   "codemirror_mode": {
    "name": "ipython",
    "version": 3
   },
   "file_extension": ".py",
   "mimetype": "text/x-python",
   "name": "python",
   "nbconvert_exporter": "python",
   "pygments_lexer": "ipython3",
   "version": "3.9.12"
  }
 },
 "nbformat": 4,
 "nbformat_minor": 5
}
