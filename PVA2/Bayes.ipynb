{
 "cells": [
  {
   "cell_type": "markdown",
   "metadata": {
    "pycharm": {
     "name": "#%% md\n"
    },
    "slideshow": {
     "slide_type": "slide"
    }
   },
   "source": [
    "# Naive Bayes-Klassifikatoren\n",
    "Klassifikator, der auf bedingten Wahrscheinlichkeiten und dem Satz von Bayes beruht."
   ]
  },
  {
   "cell_type": "markdown",
   "metadata": {
    "pycharm": {
     "name": "#%% md\n"
    },
    "slideshow": {
     "slide_type": "slide"
    }
   },
   "source": [
    "## Skalen-Niveaus\n",
    "\n",
    "* Nominalskalen\n",
    "* Ordinalskalen\n",
    "* Intervalskalen\n",
    "* Kardinalskalen"
   ]
  },
  {
   "cell_type": "markdown",
   "metadata": {
    "pycharm": {
     "name": "#%% md\n"
    },
    "slideshow": {
     "slide_type": "slide"
    }
   },
   "source": [
    "## Bedingte Wahrscheinlichkeiten"
   ]
  },
  {
   "cell_type": "markdown",
   "metadata": {
    "pycharm": {
     "name": "#%% md\n"
    },
    "slideshow": {
     "slide_type": "fragment"
    }
   },
   "source": [
    "\n",
    "* Begriffe: Ergebnisraum $\\Omega$\n",
    "* Ergebnisse $\\in\\Omega$\n",
    "* Ereignisse $\\subset\\Omega$\n",
    "* $P(A\\mid B)$ Wahrscheinlichkeit für $A$ unter der Voraussetzung $B$\n",
    "* $P(A\\mid B) = \\frac{P(A\\cap B)}{P(B)}$"
   ]
  },
  {
   "cell_type": "markdown",
   "metadata": {
    "pycharm": {
     "name": "#%% md\n"
    },
    "slideshow": {
     "slide_type": "fragment"
    }
   },
   "source": [
    "## Satz von Bayes"
   ]
  },
  {
   "cell_type": "markdown",
   "metadata": {
    "pycharm": {
     "name": "#%% md\n"
    },
    "slideshow": {
     "slide_type": "fragment"
    }
   },
   "source": [
    "$ P(A\\mid B) = P(B\\mid A) \\cdot \\frac{P(A)}{P(B)} $"
   ]
  },
  {
   "cell_type": "markdown",
   "metadata": {
    "pycharm": {
     "name": "#%% md\n"
    },
    "slideshow": {
     "slide_type": "slide"
    }
   },
   "source": [
    "## Naive Bayes Klassifikatoren für kategorische Features"
   ]
  },
  {
   "cell_type": "markdown",
   "metadata": {
    "pycharm": {
     "name": "#%% md\n"
    },
    "slideshow": {
     "slide_type": "fragment"
    }
   },
   "source": [
    "* An Hand eines Feature-Vektors $\\vec x$ für ein Objekt wird diejenige Klasse $i$ bestimmt, für die $P(i\\mid\\vec x)$ maximal ist.\n",
    "* Aus einem Datensatz werden die Wahrscheinlichkeiten $P(x_k \\mid i)$ bestimmt mit Häufigkeiten.\n",
    "* Annahme (naiv): Die Features sind unabhängig (über $i$), also gilt der Multiplikationssatz:\n",
    "  $P(\\vec x\\mid i) = P(x_1\\dots x_m\\mid i) = P(x_1\\mid i)\\cdots  P(x_m\\mid i)$\n",
    "* $P(i\\mid \\vec x) = P(\\vec x \\mid i) \\cdot \\frac{P(i)}{P(\\vec x)} = P(x_1\\mid i)\\cdots  P(x_m\\mid i) \\cdot \\frac{P(i)}{P(\\vec x)}$\n",
    "* Naiver Bayes-Klassifikator: Gesuchte Klasse ist\n",
    "  $\\mathop{argmax}_{i} P(i\\mid \\vec x) = \\mathop{argmax}_{i} P(x_1\\mid i)\\cdots  P(x_m\\mid i) \\cdot \\frac{P(i)}{P(\\vec x)} = \\mathop{argmax}_{i} P(x_1\\mid i)\\cdots  P(x_m\\mid i) \\cdot P(i)$"
   ]
  },
  {
   "cell_type": "markdown",
   "metadata": {
    "pycharm": {
     "name": "#%% md\n"
    },
    "slideshow": {
     "slide_type": "fragment"
    }
   },
   "source": [
    "Falls eine Wahrscheinlichkeit $P(x_k=\\ell,i_0)$ Null ist, bedeutet das, dass der Klassifikator nie $i_0$ als Klasse zurückgibt, sobald die $k$-te Komponente von $\\vec x$ gleich $\\ell$ ist. Dass $P(x_k=\\ell,i_0)=0$ gilt, kann aber einfach daran liegen, dass in den Testdaten zufälligerweise kein Objekt in der Klasse $i_0$ liegt mit $x_k=\\ell$.\n",
    "\n",
    "Um dem entgegenzusteuern, wird ein bei den Berechnungen von $P(x_m\\mid i)$ der Zähler um $\\frac{1}{\\mathsf{AnzahlFeature}}$ und der Nenner um 1 erhöht."
   ]
  },
  {
   "cell_type": "markdown",
   "metadata": {
    "pycharm": {
     "name": "#%% md\n"
    },
    "slideshow": {
     "slide_type": "slide"
    }
   },
   "source": [
    "### Konkreter Datensatz\n",
    "Daten laden von <http://archive.ics.uci.edu/ml/datasets/Acute+Inflammations>\n",
    "### Bedeutung der Spalten\n",
    "\n",
    "1. Temperatur des Patienten in Grad Celsius\n",
    "2. Auftreten von Übelkeit (Bool)\n",
    "3. Lendenschmerzen (Bool)\n",
    "4. Urinschub (kontinuierlicher Bedarf Wasser zu lassen) (Bool)\n",
    "5. Blasenschmerzen (Bool)\n",
    "6. Beschwerden an der Harnröhre wie Juckreizo der Schwellung des Harnröhrenaustritts (Bool)\n",
    "7. Krankheitsbild Harnblasenentzündung (Bool)\n",
    "8. Krankheitsbild Nierenentzündung mit Ursprung im Nierenbecken (Bool)"
   ]
  },
  {
   "cell_type": "code",
   "execution_count": 1,
   "metadata": {
    "pycharm": {
     "name": "#%%\n"
    },
    "slideshow": {
     "slide_type": "slide"
    }
   },
   "outputs": [],
   "source": [
    "import numpy as np\n",
    "import matplotlib.pyplot as plt"
   ]
  },
  {
   "cell_type": "code",
   "execution_count": 2,
   "metadata": {
    "pycharm": {
     "name": "#%%\n"
    },
    "slideshow": {
     "slide_type": "fragment"
    }
   },
   "outputs": [],
   "source": [
    "with open(\"diagnosis.data\",'r', encoding=\"utf16\") as fFloat:\n",
    "    with open(\"diagnosis.csv\",\"w\") as fString:\n",
    "        for line in fFloat:\n",
    "            line = line.replace(',', '.')\n",
    "            line = line.replace('\\t', ',')\n",
    "            line = line.replace('yes', '1')\n",
    "            line = line.replace('no', '0')\n",
    "            line = line.replace('\\r\\n', '\\n')\n",
    "            fString.write(line)"
   ]
  },
  {
   "cell_type": "code",
   "execution_count": 3,
   "metadata": {
    "pycharm": {
     "name": "#%%\n"
    },
    "slideshow": {
     "slide_type": "fragment"
    }
   },
   "outputs": [],
   "source": [
    "dataset = np.loadtxt(\"diagnosis.csv\", delimiter=',')"
   ]
  },
  {
   "cell_type": "code",
   "execution_count": 4,
   "metadata": {
    "pycharm": {
     "name": "#%%\n"
    },
    "slideshow": {
     "slide_type": "slide"
    }
   },
   "outputs": [
    {
     "data": {
      "text/plain": [
       "array([[35.5,  0. ,  1. ,  0. ,  0. ,  0. ,  0. ,  0. ],\n",
       "       [35.9,  0. ,  0. ,  1. ,  1. ,  1. ,  1. ,  0. ],\n",
       "       [35.9,  0. ,  1. ,  0. ,  0. ,  0. ,  0. ,  0. ],\n",
       "       [36. ,  0. ,  0. ,  1. ,  1. ,  1. ,  1. ,  0. ],\n",
       "       [36. ,  0. ,  1. ,  0. ,  0. ,  0. ,  0. ,  0. ],\n",
       "       [36. ,  0. ,  1. ,  0. ,  0. ,  0. ,  0. ,  0. ],\n",
       "       [36.2,  0. ,  0. ,  1. ,  1. ,  1. ,  1. ,  0. ],\n",
       "       [36.2,  0. ,  1. ,  0. ,  0. ,  0. ,  0. ,  0. ],\n",
       "       [36.3,  0. ,  0. ,  1. ,  1. ,  1. ,  1. ,  0. ],\n",
       "       [36.6,  0. ,  0. ,  1. ,  1. ,  1. ,  1. ,  0. ],\n",
       "       [36.6,  0. ,  0. ,  1. ,  1. ,  1. ,  1. ,  0. ],\n",
       "       [36.6,  0. ,  1. ,  0. ,  0. ,  0. ,  0. ,  0. ],\n",
       "       [36.6,  0. ,  1. ,  0. ,  0. ,  0. ,  0. ,  0. ],\n",
       "       [36.7,  0. ,  0. ,  1. ,  1. ,  1. ,  1. ,  0. ],\n",
       "       [36.7,  0. ,  1. ,  0. ,  0. ,  0. ,  0. ,  0. ],\n",
       "       [36.7,  0. ,  1. ,  0. ,  0. ,  0. ,  0. ,  0. ],\n",
       "       [36.8,  0. ,  0. ,  1. ,  1. ,  1. ,  1. ,  0. ],\n",
       "       [36.8,  0. ,  0. ,  1. ,  1. ,  1. ,  1. ,  0. ],\n",
       "       [36.9,  0. ,  0. ,  1. ,  1. ,  1. ,  1. ,  0. ],\n",
       "       [36.9,  0. ,  1. ,  0. ,  0. ,  0. ,  0. ,  0. ],\n",
       "       [37. ,  0. ,  0. ,  1. ,  1. ,  0. ,  1. ,  0. ],\n",
       "       [37. ,  0. ,  0. ,  1. ,  1. ,  0. ,  1. ,  0. ],\n",
       "       [37. ,  0. ,  1. ,  0. ,  0. ,  0. ,  0. ,  0. ],\n",
       "       [37. ,  0. ,  0. ,  1. ,  1. ,  1. ,  1. ,  0. ],\n",
       "       [37. ,  0. ,  0. ,  1. ,  1. ,  1. ,  1. ,  0. ],\n",
       "       [37. ,  0. ,  0. ,  1. ,  1. ,  1. ,  1. ,  0. ],\n",
       "       [37. ,  0. ,  0. ,  1. ,  1. ,  1. ,  1. ,  0. ],\n",
       "       [37. ,  0. ,  0. ,  1. ,  0. ,  0. ,  1. ,  0. ],\n",
       "       [37.1,  0. ,  1. ,  0. ,  0. ,  0. ,  0. ,  0. ],\n",
       "       [37.1,  0. ,  0. ,  1. ,  1. ,  1. ,  1. ,  0. ],\n",
       "       [37.1,  0. ,  0. ,  1. ,  0. ,  0. ,  1. ,  0. ],\n",
       "       [37.2,  0. ,  0. ,  1. ,  1. ,  0. ,  1. ,  0. ],\n",
       "       [37.2,  0. ,  1. ,  0. ,  0. ,  0. ,  0. ,  0. ],\n",
       "       [37.2,  0. ,  0. ,  1. ,  0. ,  0. ,  1. ,  0. ],\n",
       "       [37.3,  0. ,  1. ,  0. ,  0. ,  0. ,  0. ,  0. ],\n",
       "       [37.3,  0. ,  0. ,  1. ,  1. ,  1. ,  1. ,  0. ],\n",
       "       [37.3,  0. ,  0. ,  1. ,  0. ,  0. ,  1. ,  0. ],\n",
       "       [37.4,  0. ,  1. ,  0. ,  0. ,  0. ,  0. ,  0. ],\n",
       "       [37.4,  0. ,  0. ,  1. ,  0. ,  0. ,  1. ,  0. ],\n",
       "       [37.5,  0. ,  0. ,  1. ,  1. ,  0. ,  1. ,  0. ],\n",
       "       [37.5,  0. ,  1. ,  0. ,  0. ,  0. ,  0. ,  0. ],\n",
       "       [37.5,  0. ,  1. ,  0. ,  0. ,  0. ,  0. ,  0. ],\n",
       "       [37.5,  0. ,  0. ,  1. ,  1. ,  1. ,  1. ,  0. ],\n",
       "       [37.5,  0. ,  0. ,  1. ,  0. ,  0. ,  1. ,  0. ],\n",
       "       [37.5,  0. ,  0. ,  1. ,  0. ,  0. ,  1. ,  0. ],\n",
       "       [37.6,  0. ,  0. ,  1. ,  1. ,  0. ,  1. ,  0. ],\n",
       "       [37.6,  0. ,  0. ,  1. ,  1. ,  0. ,  1. ,  0. ],\n",
       "       [37.6,  0. ,  0. ,  1. ,  1. ,  1. ,  1. ,  0. ],\n",
       "       [37.7,  0. ,  0. ,  1. ,  1. ,  0. ,  1. ,  0. ],\n",
       "       [37.7,  0. ,  0. ,  1. ,  1. ,  0. ,  1. ,  0. ],\n",
       "       [37.7,  0. ,  1. ,  0. ,  0. ,  0. ,  0. ,  0. ],\n",
       "       [37.7,  0. ,  0. ,  1. ,  0. ,  0. ,  1. ,  0. ],\n",
       "       [37.8,  0. ,  1. ,  0. ,  0. ,  0. ,  0. ,  0. ],\n",
       "       [37.8,  0. ,  0. ,  1. ,  1. ,  1. ,  1. ,  0. ],\n",
       "       [37.8,  0. ,  0. ,  1. ,  0. ,  0. ,  1. ,  0. ],\n",
       "       [37.9,  0. ,  0. ,  1. ,  1. ,  0. ,  1. ,  0. ],\n",
       "       [37.9,  0. ,  0. ,  1. ,  1. ,  0. ,  1. ,  0. ],\n",
       "       [37.9,  0. ,  1. ,  0. ,  0. ,  0. ,  0. ,  0. ],\n",
       "       [37.9,  0. ,  0. ,  1. ,  1. ,  1. ,  1. ,  0. ],\n",
       "       [37.9,  0. ,  0. ,  1. ,  0. ,  0. ,  1. ,  0. ],\n",
       "       [38. ,  0. ,  1. ,  1. ,  0. ,  1. ,  0. ,  1. ],\n",
       "       [38. ,  0. ,  1. ,  1. ,  0. ,  1. ,  0. ,  1. ],\n",
       "       [38.1,  0. ,  1. ,  1. ,  0. ,  1. ,  0. ,  1. ],\n",
       "       [38.3,  0. ,  1. ,  1. ,  0. ,  1. ,  0. ,  1. ],\n",
       "       [38.5,  0. ,  1. ,  1. ,  0. ,  1. ,  0. ,  1. ],\n",
       "       [38.7,  0. ,  1. ,  1. ,  0. ,  1. ,  0. ,  1. ],\n",
       "       [38.9,  0. ,  1. ,  1. ,  0. ,  1. ,  0. ,  1. ],\n",
       "       [39. ,  0. ,  1. ,  1. ,  0. ,  1. ,  0. ,  1. ],\n",
       "       [39.4,  0. ,  1. ,  1. ,  0. ,  1. ,  0. ,  1. ],\n",
       "       [39.7,  0. ,  1. ,  1. ,  0. ,  1. ,  0. ,  1. ],\n",
       "       [40. ,  1. ,  1. ,  1. ,  1. ,  1. ,  1. ,  1. ],\n",
       "       [40. ,  1. ,  1. ,  1. ,  1. ,  1. ,  1. ,  1. ],\n",
       "       [40. ,  1. ,  1. ,  1. ,  1. ,  0. ,  1. ,  1. ],\n",
       "       [40. ,  0. ,  0. ,  0. ,  0. ,  0. ,  0. ,  0. ],\n",
       "       [40. ,  0. ,  0. ,  0. ,  0. ,  0. ,  0. ,  0. ],\n",
       "       [40. ,  1. ,  1. ,  0. ,  1. ,  0. ,  0. ,  1. ],\n",
       "       [40. ,  1. ,  1. ,  0. ,  1. ,  0. ,  0. ,  1. ],\n",
       "       [40. ,  0. ,  1. ,  1. ,  0. ,  1. ,  0. ,  1. ],\n",
       "       [40.1,  1. ,  1. ,  1. ,  1. ,  0. ,  1. ,  1. ],\n",
       "       [40.2,  1. ,  1. ,  1. ,  1. ,  1. ,  1. ,  1. ],\n",
       "       [40.2,  0. ,  0. ,  0. ,  0. ,  0. ,  0. ,  0. ],\n",
       "       [40.2,  1. ,  1. ,  0. ,  1. ,  0. ,  0. ,  1. ],\n",
       "       [40.3,  0. ,  1. ,  1. ,  0. ,  1. ,  0. ,  1. ],\n",
       "       [40.4,  1. ,  1. ,  1. ,  1. ,  1. ,  1. ,  1. ],\n",
       "       [40.4,  1. ,  1. ,  1. ,  1. ,  0. ,  1. ,  1. ],\n",
       "       [40.4,  1. ,  1. ,  1. ,  1. ,  0. ,  1. ,  1. ],\n",
       "       [40.4,  0. ,  0. ,  0. ,  0. ,  0. ,  0. ,  0. ],\n",
       "       [40.4,  1. ,  1. ,  0. ,  1. ,  0. ,  0. ,  1. ],\n",
       "       [40.5,  1. ,  1. ,  1. ,  1. ,  0. ,  1. ,  1. ],\n",
       "       [40.6,  1. ,  1. ,  1. ,  1. ,  1. ,  1. ,  1. ],\n",
       "       [40.6,  0. ,  0. ,  0. ,  0. ,  0. ,  0. ,  0. ],\n",
       "       [40.6,  1. ,  1. ,  0. ,  1. ,  0. ,  0. ,  1. ],\n",
       "       [40.7,  1. ,  1. ,  1. ,  1. ,  1. ,  1. ,  1. ],\n",
       "       [40.7,  1. ,  1. ,  1. ,  1. ,  0. ,  1. ,  1. ],\n",
       "       [40.7,  0. ,  0. ,  0. ,  0. ,  0. ,  0. ,  0. ],\n",
       "       [40.7,  1. ,  1. ,  0. ,  1. ,  0. ,  0. ,  1. ],\n",
       "       [40.7,  0. ,  1. ,  1. ,  0. ,  1. ,  0. ,  1. ],\n",
       "       [40.8,  0. ,  1. ,  1. ,  0. ,  1. ,  0. ,  1. ],\n",
       "       [40.9,  1. ,  1. ,  1. ,  1. ,  0. ,  1. ,  1. ],\n",
       "       [40.9,  1. ,  1. ,  1. ,  1. ,  0. ,  1. ,  1. ],\n",
       "       [40.9,  0. ,  1. ,  1. ,  0. ,  1. ,  0. ,  1. ],\n",
       "       [41. ,  1. ,  1. ,  1. ,  1. ,  1. ,  1. ,  1. ],\n",
       "       [41. ,  0. ,  0. ,  0. ,  0. ,  0. ,  0. ,  0. ],\n",
       "       [41. ,  1. ,  1. ,  0. ,  1. ,  0. ,  0. ,  1. ],\n",
       "       [41. ,  0. ,  1. ,  1. ,  0. ,  1. ,  0. ,  1. ],\n",
       "       [41.1,  1. ,  1. ,  1. ,  1. ,  1. ,  1. ,  1. ],\n",
       "       [41.1,  1. ,  1. ,  1. ,  1. ,  0. ,  1. ,  1. ],\n",
       "       [41.1,  0. ,  0. ,  0. ,  0. ,  0. ,  0. ,  0. ],\n",
       "       [41.1,  1. ,  1. ,  0. ,  1. ,  0. ,  0. ,  1. ],\n",
       "       [41.1,  0. ,  1. ,  1. ,  0. ,  1. ,  0. ,  1. ],\n",
       "       [41.2,  1. ,  1. ,  1. ,  1. ,  1. ,  1. ,  1. ],\n",
       "       [41.2,  0. ,  0. ,  0. ,  0. ,  0. ,  0. ,  0. ],\n",
       "       [41.2,  1. ,  1. ,  0. ,  1. ,  0. ,  0. ,  1. ],\n",
       "       [41.2,  0. ,  1. ,  1. ,  0. ,  1. ,  0. ,  1. ],\n",
       "       [41.3,  1. ,  1. ,  1. ,  1. ,  0. ,  1. ,  1. ],\n",
       "       [41.4,  0. ,  1. ,  1. ,  0. ,  1. ,  0. ,  1. ],\n",
       "       [41.5,  0. ,  0. ,  0. ,  0. ,  0. ,  0. ,  0. ],\n",
       "       [41.5,  1. ,  1. ,  0. ,  1. ,  0. ,  0. ,  1. ],\n",
       "       [41.5,  0. ,  1. ,  1. ,  0. ,  1. ,  0. ,  1. ],\n",
       "       [41.5,  0. ,  1. ,  1. ,  0. ,  1. ,  0. ,  1. ]])"
      ]
     },
     "execution_count": 4,
     "metadata": {},
     "output_type": "execute_result"
    }
   ],
   "source": [
    "dataset"
   ]
  },
  {
   "cell_type": "markdown",
   "metadata": {
    "pycharm": {
     "name": "#%% md\n"
    },
    "slideshow": {
     "slide_type": "slide"
    }
   },
   "source": [
    "## Train-Test-Split\n",
    "\n",
    "* Für ein Training eines Klassifikators mit Daten müssen die Daten in Trainings und Testdaten aufgespaltet werden\n",
    "* Testdaten sollten weggesperrt werden und erst am Schluss zur Überprüfung des Klassifikators verwendet werden.\n",
    "* Falls ein Klassifikator Parameter benötigt und diese Parameter experimentell bestimmt werden sollten, müssen die Testdaten in eigentliche Testdaten und Validierungsdaten aufgespaltet werden.\n",
    "* Übliche Größe für Testdaten: 15 % - 30 %\n",
    "* Die Auswahl der Testdaten sollte zufällig sein.\n",
    "\n",
    "<table>\n",
    "<tr><td colspan=\"2\"> Trainingsdaten </td> <td rowspan=\"2\"> Testdaten</td></tr>\n",
    "<tr><td> Trainingsdaten </td> <td> Validierungsdaten </td> </tr>\n",
    "</table>"
   ]
  },
  {
   "cell_type": "markdown",
   "metadata": {
    "pycharm": {
     "name": "#%% md\n"
    },
    "slideshow": {
     "slide_type": "slide"
    }
   },
   "source": [
    "### Illustration für Notwendigkeit von Daten für polynomiale Regression"
   ]
  },
  {
   "cell_type": "code",
   "execution_count": 5,
   "metadata": {
    "pycharm": {
     "name": "#%%\n"
    },
    "slideshow": {
     "slide_type": "fragment"
    }
   },
   "outputs": [
    {
     "data": {
      "text/plain": [
       "(-300.0, 400.0)"
      ]
     },
     "execution_count": 5,
     "metadata": {},
     "output_type": "execute_result"
    },
    {
     "data": {
      "image/png": "[encoded data removed]",
      "text/plain": [
       "<Figure size 432x288 with 1 Axes>"
      ]
     },
     "metadata": {
      "needs_background": "light"
     },
     "output_type": "display_data"
    }
   ],
   "source": [
    "from scipy.interpolate import lagrange\n",
    "np.random.seed(42)\n",
    "x = 10*np.random.rand(15)\n",
    "y = x + 0.5*np.random.rand(15)\n",
    "p = lagrange(x[0:10],y[0:10])\n",
    "xp = np.linspace(0,10,100)\n",
    "yp = p(xp)\n",
    "plt.scatter(x[0:10],y[0:10],c='k')\n",
    "plt.scatter(x[10:15],y[10:15],c='b', marker='+')\n",
    "plt.scatter(x[10:15],p(y[10:15]), c='r', marker='*')\n",
    "plt.plot(xp,yp,'k:')\n",
    "plt.xlabel('x'),plt.ylabel('y')\n",
    "plt.ylim((-300, 400))"
   ]
  },
  {
   "cell_type": "markdown",
   "metadata": {
    "pycharm": {
     "name": "#%% md\n"
    },
    "slideshow": {
     "slide_type": "slide"
    }
   },
   "source": [
    "## Durchführung von Train-Test-Split"
   ]
  },
  {
   "cell_type": "code",
   "execution_count": 6,
   "metadata": {
    "pycharm": {
     "name": "#%%\n"
    },
    "slideshow": {
     "slide_type": "fragment"
    }
   },
   "outputs": [],
   "source": [
    "np.random.seed(42)"
   ]
  },
  {
   "cell_type": "code",
   "execution_count": 7,
   "metadata": {
    "pycharm": {
     "name": "#%%\n"
    },
    "slideshow": {
     "slide_type": "fragment"
    }
   },
   "outputs": [],
   "source": [
    "X = dataset[:,1:6] # ohne erste Spalte, da diese nicht kategorisch\n",
    "Y = dataset[:,6]   # zweitletzte Spalte mit Klasse\n",
    "allData = np.arange(X.shape[0])\n",
    "iTesting = np.random.choice(X.shape[0],int(X.shape[0]*0.2),replace=False)\n",
    "iTraining = np.delete(allData,iTesting)\n",
    "dataRecords = len(iTraining)\n",
    "XTrain = X[iTraining,:]\n",
    "YTrain = Y[iTraining]"
   ]
  },
  {
   "cell_type": "markdown",
   "metadata": {
    "pycharm": {
     "name": "#%% md\n"
    },
    "slideshow": {
     "slide_type": "slide"
    }
   },
   "source": [
    "Aus den Test-Daten werden jetzt alle Wahrscheinlichkeiten $P(X_k=\\ell\\mid i)$ berechnet und in ein Numpy-Array `PXI[i, k, l]` gespeichert."
   ]
  },
  {
   "cell_type": "code",
   "execution_count": 8,
   "metadata": {
    "pycharm": {
     "name": "#%%\n"
    },
    "slideshow": {
     "slide_type": "fragment"
    }
   },
   "outputs": [],
   "source": [
    "PXI = np.zeros((2, XTrain.shape[1], 2))\n",
    "for k in range(XTrain.shape[1]):\n",
    "    PXI[1, k, 1] = np.sum(XTrain[:,k] * YTrain)\n",
    "    PXI[1, k, 0] = np.sum(XTrain[:,k] * (1 - YTrain))\n",
    "    PXI[0, k, 1] = np.sum((1 - XTrain[:,k]) * YTrain)\n",
    "    PXI[0, k, 0] = np.sum((1 - XTrain[:,k] ) * (1 - YTrain))"
   ]
  },
  {
   "cell_type": "code",
   "execution_count": 9,
   "metadata": {
    "pycharm": {
     "name": "#%%\n"
    },
    "slideshow": {
     "slide_type": "fragment"
    }
   },
   "outputs": [
    {
     "data": {
      "text/plain": [
       "array([[[40., 31.],\n",
       "        [ 8., 31.],\n",
       "        [33.,  0.],\n",
       "        [40.,  8.],\n",
       "        [33., 24.]],\n",
       "\n",
       "       [[ 9., 16.],\n",
       "        [41., 16.],\n",
       "        [16., 47.],\n",
       "        [ 9., 39.],\n",
       "        [16., 23.]]])"
      ]
     },
     "execution_count": 9,
     "metadata": {},
     "output_type": "execute_result"
    }
   ],
   "source": [
    "PXI"
   ]
  },
  {
   "cell_type": "code",
   "execution_count": 10,
   "metadata": {
    "pycharm": {
     "name": "#%%\n"
    },
    "slideshow": {
     "slide_type": "fragment"
    }
   },
   "outputs": [
    {
     "data": {
      "text/plain": [
       "array([49., 47.])"
      ]
     },
     "execution_count": 10,
     "metadata": {},
     "output_type": "execute_result"
    }
   ],
   "source": [
    "PI = np.zeros(2)\n",
    "PI[1] = np.sum(YTrain)\n",
    "PI[0] = dataRecords - PI[1]\n",
    "PI"
   ]
  },
  {
   "cell_type": "code",
   "execution_count": 19,
   "metadata": {
    "pycharm": {
     "name": "#%%\n"
    },
    "slideshow": {
     "slide_type": "slide"
    }
   },
   "outputs": [],
   "source": [
    "def predictNaiveBayesNominal(x):\n",
    "    P = np.zeros_like(PI)\n",
    "    allofthem = np.arange(XTrain.shape[1])\n",
    "    for i in range(len(PI)):\n",
    "        P[i] = np.prod(PXI[i,allofthem,x])*PI[i]\n",
    "    choosenClass = np.argmax(P)\n",
    "    return choosenClass"
   ]
  },
  {
   "cell_type": "markdown",
   "metadata": {
    "pycharm": {
     "name": "#%% md\n"
    },
    "slideshow": {
     "slide_type": "fragment"
    }
   },
   "source": [
    "Test des Klassifikators mit den Testdaten"
   ]
  },
  {
   "cell_type": "code",
   "execution_count": 20,
   "metadata": {
    "pycharm": {
     "name": "#%%\n"
    },
    "slideshow": {
     "slide_type": "fragment"
    }
   },
   "outputs": [
    {
     "name": "stdout",
     "output_type": "stream",
     "text": [
      "Von 24 Testfällen wurden 19 richtig und 5 falsch klassifiziert\n"
     ]
    }
   ],
   "source": [
    "XTest = X[iTesting,:]\n",
    "YTest = Y[iTesting]\n",
    "correct = np.zeros(2)\n",
    "incorrect = np.zeros(2)\n",
    "for i in range(XTest.shape[0]):\n",
    "    klasse = predictNaiveBayesNominal(XTest[i,:].astype(int))\n",
    "    if klasse == YTest[i]:\n",
    "        correct[klasse] = correct[klasse] +1\n",
    "    else:\n",
    "        incorrect[klasse] = incorrect[klasse] +1\n",
    "print(f\"Von {XTest.shape[0]} Testfällen wurden {int(np.sum(correct))} richtig und {int(np.sum(incorrect))} falsch klassifiziert\")"
   ]
  },
  {
   "cell_type": "markdown",
   "metadata": {
    "pycharm": {
     "name": "#%%\n"
    },
    "slideshow": {
     "slide_type": "slide"
    }
   },
   "source": [
    "## Nichtkategorische Features"
   ]
  },
  {
   "cell_type": "markdown",
   "metadata": {
    "pycharm": {
     "name": "#%%\n"
    },
    "slideshow": {
     "slide_type": "fragment"
    }
   },
   "source": [
    "* Annahme: Bei kardinalen Features sind die Werte für jede einzelne Klasse normalverteilt \n",
    "* Die Parameter der Verteilung (Erwartungswert $\\mu$ und Standardabweichung $\\sigma$ werden aus den Daten geschätzt.\n",
    "* Wir ersetzten jetzt die bedingten ahrscheinlichkeiten durch die Wahrscheinlichkeitsdichten\n",
    "$$ P(T\\mid \\mathsf{pos/neg Diagnose}) = \\frac{1}{\\sigma\\cdot\\sqrt{2\\pi}} \\cdot e^{-\\tfrac12\\left(\\frac{T-\\mu}\\sigma\\right)^2}$$"
   ]
  },
  {
   "cell_type": "markdown",
   "metadata": {},
   "source": [
    "# Diskussion zu linearen Modellen und KNN\n",
    "* Was ist lazy Learning\n",
    "* Wozu Metriken\n",
    "* Fluch der Dimension\n",
    "* KNN"
   ]
  },
  {
   "cell_type": "markdown",
   "metadata": {
    "pycharm": {
     "name": "#%%\n"
    },
    "slideshow": {
     "slide_type": "slide"
    }
   },
   "source": [
    "## Scikit Learn"
   ]
  },
  {
   "cell_type": "markdown",
   "metadata": {
    "pycharm": {
     "name": "#%%\n"
    },
    "slideshow": {
     "slide_type": "fragment"
    }
   },
   "source": [
    "* Scikit Learn ist eine Bibliothek für Machine-Learning Algorithmen.\n",
    "* Test-Train-Split findet man unter https://scikit-learn.org/stable/modules/generated/sklearn.model_selection.train_test_split.html\n",
    "* Ein naiver Bayes Klassifikator ist unter https://scikit-learn.org/stable/modules/generated/sklearn.naive_bayes.GaussianNB.html\n",
    "* Beispiel-Datensätze (zum Spielen) gib's unter https://scikit-learn.org/stable/modules/classes.html#module-sklearn.datasets\n"
   ]
  },
  {
   "cell_type": "markdown",
   "metadata": {
    "pycharm": {
     "name": "#%% raw\n"
    },
    "slideshow": {
     "slide_type": "fragment"
    }
   },
   "source": [
    "## Interface für Klassifikatoren in Scikit Learn\n",
    "* Alle Klassifikatoren in Scitit Learn besitzen das gleiche Interface\n",
    "* Einen Konstruktor\n",
    "    * Bei GaussianNB ohne Parameter\n",
    "    * Bei knn wird hier das k angegeben\n",
    "* Eine Methode `fit(X, y)` zum Tainieren des Klassifikators\n",
    "* Eine Methode `predict(X)` zum Anwenden des Klassifikators\n",
    "* Eine Methode `score(X, y)` zum Überprüfen der Accuracy"
   ]
  },
  {
   "cell_type": "markdown",
   "metadata": {
    "slideshow": {
     "slide_type": "slide"
    }
   },
   "source": [
    "## Aufgaben\n",
    "1. Ladet einige Test-Datensätze, z.B. Iris oder Digits\n",
    "2. Verwendet die in SKlearn eingebaute Funktion train\\_test\\_split zum Aufspalten von Datesätzen\n",
    "3. Testet den GaussianNB Klassifikator und KNN aus\n",
    "4. Implementiere eine Klasse für einen naiven Bayes-Klassifikator mit den folgenden Funktonalitäten:\n",
    "   * Konstruktor\n",
    "   * fit-Methode\n",
    "   * predict-Methode\n",
    "   * score-Methode\n",
    "   "
   ]
  },
  {
   "cell_type": "code",
   "execution_count": null,
   "metadata": {},
   "outputs": [],
   "source": []
  }
 ],
 "metadata": {
  "celltoolbar": "Slideshow",
  "kernelspec": {
   "display_name": "Python3",
   "language": "python",
   "name": "python3"
  },
  "language_info": {
   "codemirror_mode": {
    "name": "ipython",
    "version": 3
   },
   "file_extension": ".py",
   "mimetype": "text/x-python",
   "name": "python",
   "nbconvert_exporter": "python",
   "pygments_lexer": "ipython3",
   "version": "3.8.8"
  }
 },
 "nbformat": 4,
 "nbformat_minor": 1
}
